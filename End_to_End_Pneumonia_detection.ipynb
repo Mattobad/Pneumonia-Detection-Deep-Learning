{
  "nbformat": 4,
  "nbformat_minor": 0,
  "metadata": {
    "colab": {
      "name": "End-to-End-Pneumonia-detection.ipynb",
      "provenance": [],
      "collapsed_sections": [],
      "toc_visible": true,
      "mount_file_id": "1S2tzEsxGBnfcpSjo-sKjprnmr41KnFeW",
      "authorship_tag": "ABX9TyOdhKkjzS+cUlDV9kc5em7r",
      "include_colab_link": true
    },
    "kernelspec": {
      "name": "python3",
      "display_name": "Python 3"
    }
  },
  "cells": [
    {
      "cell_type": "markdown",
      "metadata": {
        "id": "view-in-github",
        "colab_type": "text"
      },
      "source": [
        "<a href=\"https://colab.research.google.com/github/Mattobad/Pneumonia-Detection-Deep-Learning/blob/master/End_to_End_Pneumonia_detection.ipynb\" target=\"_parent\"><img src=\"https://colab.research.google.com/assets/colab-badge.svg\" alt=\"Open In Colab\"/></a>"
      ]
    },
    {
      "cell_type": "markdown",
      "metadata": {
        "id": "J-6xw32MxgYz"
      },
      "source": [
        "## End to End image classification for Pneumonia Detection using X-ray Images\n",
        "\n",
        "#### Introduction\n",
        "\n",
        "The main motive of starting this project is to build Deep Learning(DL) model to detect presence of pnuemonia provided the patient X-rays images or patient DICOM(Digital Imaging and Communications in Medicine) file. And later on use the trained model to be deployed as web application using docker and flask-python where user can provide X-ray image or DICOM file and see what model predicts. \n",
        "\n",
        "In this notebook, we're going to implement end to end Binary image classification(supervised learning) to detect pneumonia in the x-ray images using Tensorflow-keras. We are going to also look into different model architecture(play around with different architecture),  hypermeters optimization.\n",
        "\n"
      ]
    },
    {
      "cell_type": "markdown",
      "metadata": {
        "id": "C5adKYR12KiE"
      },
      "source": [
        "###### i. Problem\n",
        "To detect the traces of pneumonia in the x-ray images.\n",
        "\n",
        "###### ii. Data\n",
        "The data was taken from Kaggle's Pneumonia detection challenge. [Link to the data](https://www.kaggle.com/c/rsna-pneumonia-detection-challenge/data)\n",
        "\n",
        "###### iii. Evaluation\n",
        "Evaluation metric used here is accuracy(how well the model predicted value correspondes with the original value).\n",
        "\n",
        "\n",
        "**Note:** Model build here is for learning purpose only and not applicable for real case scenario where serious decision is to be made.\n",
        "\n",
        "Happy Learning!!!"
      ]
    },
    {
      "cell_type": "code",
      "metadata": {
        "id": "_yjho0rvjWSz"
      },
      "source": [
        "# process to unzip the file\n",
        "#!unzip \"drive/My Drive/Data/rsna-pneumonia-detection-challenge.zip\" -d \"drive/My Drive/Data/pneumonia-data\""
      ],
      "execution_count": null,
      "outputs": []
    },
    {
      "cell_type": "markdown",
      "metadata": {
        "id": "FjQILVmXXEH6"
      },
      "source": [
        "##### 1. Making your workspace ready."
      ]
    },
    {
      "cell_type": "code",
      "metadata": {
        "id": "Q6blN52jrMqi"
      },
      "source": [
        "# Import TF 2.x\n",
        "try:\n",
        "  # %tensorflow_version only exists in Colab\n",
        "  %tensorflow_version 2.x\n",
        "except Exception:\n",
        "  pass"
      ],
      "execution_count": null,
      "outputs": []
    },
    {
      "cell_type": "code",
      "metadata": {
        "id": "AV3QRkocXLSF",
        "colab": {
          "base_uri": "https://localhost:8080/",
          "height": 72
        },
        "outputId": "9bca1510-6cba-47bb-97bd-4d95ec76f22e"
      },
      "source": [
        "# Import necessary tools\n",
        "import tensorflow as tf\n",
        "import tensorflow_hub as hub\n",
        "\n",
        "print(\"TF version:\", tf.__version__)\n",
        "\n",
        "print(\"TF HUB version:\", hub.__version__)\n",
        "#Check for GPU availability\n",
        "print(\"GPU\",\"available (YESS!!)\" if tf.config.list_physical_devices(\"GPU\") else \"GPU not available\")"
      ],
      "execution_count": null,
      "outputs": [
        {
          "output_type": "stream",
          "text": [
            "TF version: 2.2.0\n",
            "TF HUB version: 0.8.0\n",
            "GPU available (YESS!!)\n"
          ],
          "name": "stdout"
        }
      ]
    },
    {
      "cell_type": "code",
      "metadata": {
        "id": "tOmUmGDrbIHP",
        "colab": {
          "base_uri": "https://localhost:8080/",
          "height": 274
        },
        "outputId": "cc5986f4-7dd1-4544-a47d-7329110f6b10"
      },
      "source": [
        "# install the pydicom module as required for patient data\n",
        "# pypng for converting image pixel into images files(png)\n",
        "!pip install pydicom pypng"
      ],
      "execution_count": null,
      "outputs": [
        {
          "output_type": "stream",
          "text": [
            "Collecting pydicom\n",
            "\u001b[?25l  Downloading https://files.pythonhosted.org/packages/d3/56/342e1f8ce5afe63bf65c23d0b2c1cd5a05600caad1c211c39725d3a4cc56/pydicom-2.0.0-py3-none-any.whl (35.4MB)\n",
            "\u001b[K     |████████████████████████████████| 35.5MB 117kB/s \n",
            "\u001b[?25hCollecting pypng\n",
            "\u001b[?25l  Downloading https://files.pythonhosted.org/packages/bc/fb/f719f1ac965e2101aa6ea6f54ef8b40f8fbb033f6ad07c017663467f5147/pypng-0.0.20.tar.gz (649kB)\n",
            "\u001b[K     |████████████████████████████████| 655kB 46.9MB/s \n",
            "\u001b[?25hBuilding wheels for collected packages: pypng\n",
            "  Building wheel for pypng (setup.py) ... \u001b[?25l\u001b[?25hdone\n",
            "  Created wheel for pypng: filename=pypng-0.0.20-cp36-none-any.whl size=67161 sha256=2b26b64bbbc9d87c7bea6f22db4227f1c6525a8f087a2c9c1007b84504c3f9e9\n",
            "  Stored in directory: /root/.cache/pip/wheels/41/6b/ef/0493b536b6d4722c2ae9486691b1d49b922b9877922beeabb3\n",
            "Successfully built pypng\n",
            "Installing collected packages: pydicom, pypng\n",
            "Successfully installed pydicom-2.0.0 pypng-0.0.20\n"
          ],
          "name": "stdout"
        }
      ]
    },
    {
      "cell_type": "code",
      "metadata": {
        "id": "WtUoLnb6XOLr",
        "colab": {
          "base_uri": "https://localhost:8080/",
          "height": 272
        },
        "outputId": "133accf0-3aec-4b2d-ab93-6c3e4464989d"
      },
      "source": [
        "import pandas as pd\n",
        "import numpy as np\n",
        "import matplotlib.pyplot as plt\n",
        "import pydicom \n",
        "\n",
        "labels_csv = pd.read_csv('drive/My Drive/Data/pneumonia-data/stage_2_train_labels.csv')\n",
        "print(labels_csv.describe())\n",
        "labels_csv.head(2)"
      ],
      "execution_count": null,
      "outputs": [
        {
          "output_type": "stream",
          "text": [
            "                 x            y        width       height        Target\n",
            "count  9555.000000  9555.000000  9555.000000  9555.000000  30227.000000\n",
            "mean    394.047724   366.839560   218.471376   329.269702      0.316108\n",
            "std     204.574172   148.940488    59.289475   157.750755      0.464963\n",
            "min       2.000000     2.000000    40.000000    45.000000      0.000000\n",
            "25%     207.000000   249.000000   177.000000   203.000000      0.000000\n",
            "50%     324.000000   365.000000   217.000000   298.000000      0.000000\n",
            "75%     594.000000   478.500000   259.000000   438.000000      1.000000\n",
            "max     835.000000   881.000000   528.000000   942.000000      1.000000\n"
          ],
          "name": "stdout"
        },
        {
          "output_type": "execute_result",
          "data": {
            "text/html": [
              "<div>\n",
              "<style scoped>\n",
              "    .dataframe tbody tr th:only-of-type {\n",
              "        vertical-align: middle;\n",
              "    }\n",
              "\n",
              "    .dataframe tbody tr th {\n",
              "        vertical-align: top;\n",
              "    }\n",
              "\n",
              "    .dataframe thead th {\n",
              "        text-align: right;\n",
              "    }\n",
              "</style>\n",
              "<table border=\"1\" class=\"dataframe\">\n",
              "  <thead>\n",
              "    <tr style=\"text-align: right;\">\n",
              "      <th></th>\n",
              "      <th>patientId</th>\n",
              "      <th>x</th>\n",
              "      <th>y</th>\n",
              "      <th>width</th>\n",
              "      <th>height</th>\n",
              "      <th>Target</th>\n",
              "    </tr>\n",
              "  </thead>\n",
              "  <tbody>\n",
              "    <tr>\n",
              "      <th>0</th>\n",
              "      <td>0004cfab-14fd-4e49-80ba-63a80b6bddd6</td>\n",
              "      <td>NaN</td>\n",
              "      <td>NaN</td>\n",
              "      <td>NaN</td>\n",
              "      <td>NaN</td>\n",
              "      <td>0</td>\n",
              "    </tr>\n",
              "    <tr>\n",
              "      <th>1</th>\n",
              "      <td>00313ee0-9eaa-42f4-b0ab-c148ed3241cd</td>\n",
              "      <td>NaN</td>\n",
              "      <td>NaN</td>\n",
              "      <td>NaN</td>\n",
              "      <td>NaN</td>\n",
              "      <td>0</td>\n",
              "    </tr>\n",
              "  </tbody>\n",
              "</table>\n",
              "</div>"
            ],
            "text/plain": [
              "                              patientId   x   y  width  height  Target\n",
              "0  0004cfab-14fd-4e49-80ba-63a80b6bddd6 NaN NaN    NaN     NaN       0\n",
              "1  00313ee0-9eaa-42f4-b0ab-c148ed3241cd NaN NaN    NaN     NaN       0"
            ]
          },
          "metadata": {
            "tags": []
          },
          "execution_count": 9
        }
      ]
    },
    {
      "cell_type": "code",
      "metadata": {
        "id": "8Ej0RcJ5kOWE",
        "colab": {
          "base_uri": "https://localhost:8080/",
          "height": 78
        },
        "outputId": "a15314fc-42ea-4e85-e6f6-298270c18946"
      },
      "source": [
        "labels_csv[labels_csv['Target'] == 1][:1] "
      ],
      "execution_count": null,
      "outputs": [
        {
          "output_type": "execute_result",
          "data": {
            "text/html": [
              "<div>\n",
              "<style scoped>\n",
              "    .dataframe tbody tr th:only-of-type {\n",
              "        vertical-align: middle;\n",
              "    }\n",
              "\n",
              "    .dataframe tbody tr th {\n",
              "        vertical-align: top;\n",
              "    }\n",
              "\n",
              "    .dataframe thead th {\n",
              "        text-align: right;\n",
              "    }\n",
              "</style>\n",
              "<table border=\"1\" class=\"dataframe\">\n",
              "  <thead>\n",
              "    <tr style=\"text-align: right;\">\n",
              "      <th></th>\n",
              "      <th>patientId</th>\n",
              "      <th>x</th>\n",
              "      <th>y</th>\n",
              "      <th>width</th>\n",
              "      <th>height</th>\n",
              "      <th>Target</th>\n",
              "    </tr>\n",
              "  </thead>\n",
              "  <tbody>\n",
              "    <tr>\n",
              "      <th>4</th>\n",
              "      <td>00436515-870c-4b36-a041-de91049b9ab4</td>\n",
              "      <td>264.0</td>\n",
              "      <td>152.0</td>\n",
              "      <td>213.0</td>\n",
              "      <td>379.0</td>\n",
              "      <td>1</td>\n",
              "    </tr>\n",
              "  </tbody>\n",
              "</table>\n",
              "</div>"
            ],
            "text/plain": [
              "                              patientId      x      y  width  height  Target\n",
              "4  00436515-870c-4b36-a041-de91049b9ab4  264.0  152.0  213.0   379.0       1"
            ]
          },
          "metadata": {
            "tags": []
          },
          "execution_count": 9
        }
      ]
    },
    {
      "cell_type": "code",
      "metadata": {
        "id": "cevEIdZ3YZAu",
        "colab": {
          "base_uri": "https://localhost:8080/",
          "height": 402
        },
        "outputId": "e4ee06fa-14b1-44a0-ef5a-3a08011b1e00"
      },
      "source": [
        "labels_csv.Target.value_counts().plot.bar(figsize=(20,10))"
      ],
      "execution_count": null,
      "outputs": [
        {
          "output_type": "execute_result",
          "data": {
            "text/plain": [
              "<matplotlib.axes._subplots.AxesSubplot at 0x7f73de393b70>"
            ]
          },
          "metadata": {
            "tags": []
          },
          "execution_count": 8
        },
        {
          "output_type": "display_data",
          "data": {
            "image/png": "[encoded data removed]",
            "text/plain": [
              "<Figure size 1440x720 with 1 Axes>"
            ]
          },
          "metadata": {
            "tags": [],
            "needs_background": "light"
          }
        }
      ]
    },
    {
      "cell_type": "code",
      "metadata": {
        "id": "JssquO5oROcM",
        "colab": {
          "base_uri": "https://localhost:8080/",
          "height": 72
        },
        "outputId": "45ef5e38-0beb-47b3-f2fc-cbe2155b3b82"
      },
      "source": [
        "labels_csv['Target'].value_counts()"
      ],
      "execution_count": null,
      "outputs": [
        {
          "output_type": "execute_result",
          "data": {
            "text/plain": [
              "0    20672\n",
              "1     9555\n",
              "Name: Target, dtype: int64"
            ]
          },
          "metadata": {
            "tags": []
          },
          "execution_count": 51
        }
      ]
    },
    {
      "cell_type": "markdown",
      "metadata": {
        "id": "X1FsQ7zhRU59"
      },
      "source": [
        "So,there are 20672 record of patient without pneumonia and 9555 record of patient with pneumonia"
      ]
    },
    {
      "cell_type": "markdown",
      "metadata": {
        "id": "ppAc87VEEcKn"
      },
      "source": [
        "##### 2. Understanding the DICOM(Digital Imaging and Communications in Medicine) files\n",
        "\n",
        "Dicom files consists of all the metadata related to patient including images. Python library pydicom is used here for exploring the dicom files."
      ]
    },
    {
      "cell_type": "code",
      "metadata": {
        "id": "eLQeqrTaYzS6",
        "colab": {
          "base_uri": "https://localhost:8080/",
          "height": 965
        },
        "outputId": "851c269b-a8b6-4540-8642-5cda4dff8496"
      },
      "source": [
        "# to read the first patient ID\n",
        "patientId = labels_csv['patientId'][0]\n",
        "dcm_file = 'drive/My Drive/Data/pneumonia-data/stage_2_train_images/%s.dcm' % patientId\n",
        "dcm_data = pydicom.read_file(dcm_file)\n",
        "\n",
        "print(dcm_data)\n",
        "#0004cfab-14fd-4e49-80ba-63a80b6bddd6\n",
        "print()\n",
        "print(dcm_data[\"PatientID\"])\n",
        "print()\n",
        "print()\n",
        "print()\n",
        "# check the patient age and sex related specific patient id\n",
        "print(dcm_data['PatientAge'][:3])\n",
        "print(dcm_data['PatientSex'][0])"
      ],
      "execution_count": null,
      "outputs": [
        {
          "output_type": "stream",
          "text": [
            "Dataset.file_meta -------------------------------\n",
            "(0002, 0000) File Meta Information Group Length  UL: 202\n",
            "(0002, 0001) File Meta Information Version       OB: b'\\x00\\x01'\n",
            "(0002, 0002) Media Storage SOP Class UID         UI: Secondary Capture Image Storage\n",
            "(0002, 0003) Media Storage SOP Instance UID      UI: 1.2.276.0.7230010.3.1.4.8323329.28530.1517874485.775526\n",
            "(0002, 0010) Transfer Syntax UID                 UI: JPEG Baseline (Process 1)\n",
            "(0002, 0012) Implementation Class UID            UI: 1.2.276.0.7230010.3.0.3.6.0\n",
            "(0002, 0013) Implementation Version Name         SH: 'OFFIS_DCMTK_360'\n",
            "-------------------------------------------------\n",
            "(0008, 0005) Specific Character Set              CS: 'ISO_IR 100'\n",
            "(0008, 0016) SOP Class UID                       UI: Secondary Capture Image Storage\n",
            "(0008, 0018) SOP Instance UID                    UI: 1.2.276.0.7230010.3.1.4.8323329.28530.1517874485.775526\n",
            "(0008, 0020) Study Date                          DA: '19010101'\n",
            "(0008, 0030) Study Time                          TM: '000000.00'\n",
            "(0008, 0050) Accession Number                    SH: ''\n",
            "(0008, 0060) Modality                            CS: 'CR'\n",
            "(0008, 0064) Conversion Type                     CS: 'WSD'\n",
            "(0008, 0090) Referring Physician's Name          PN: ''\n",
            "(0008, 103e) Series Description                  LO: 'view: PA'\n",
            "(0010, 0010) Patient's Name                      PN: '0004cfab-14fd-4e49-80ba-63a80b6bddd6'\n",
            "(0010, 0020) Patient ID                          LO: '0004cfab-14fd-4e49-80ba-63a80b6bddd6'\n",
            "(0010, 0030) Patient's Birth Date                DA: ''\n",
            "(0010, 0040) Patient's Sex                       CS: 'F'\n",
            "(0010, 1010) Patient's Age                       AS: '51'\n",
            "(0018, 0015) Body Part Examined                  CS: 'CHEST'\n",
            "(0018, 5101) View Position                       CS: 'PA'\n",
            "(0020, 000d) Study Instance UID                  UI: 1.2.276.0.7230010.3.1.2.8323329.28530.1517874485.775525\n",
            "(0020, 000e) Series Instance UID                 UI: 1.2.276.0.7230010.3.1.3.8323329.28530.1517874485.775524\n",
            "(0020, 0010) Study ID                            SH: ''\n",
            "(0020, 0011) Series Number                       IS: \"1\"\n",
            "(0020, 0013) Instance Number                     IS: \"1\"\n",
            "(0020, 0020) Patient Orientation                 CS: ''\n",
            "(0028, 0002) Samples per Pixel                   US: 1\n",
            "(0028, 0004) Photometric Interpretation          CS: 'MONOCHROME2'\n",
            "(0028, 0010) Rows                                US: 1024\n",
            "(0028, 0011) Columns                             US: 1024\n",
            "(0028, 0030) Pixel Spacing                       DS: [0.14300000000000002, 0.14300000000000002]\n",
            "(0028, 0100) Bits Allocated                      US: 8\n",
            "(0028, 0101) Bits Stored                         US: 8\n",
            "(0028, 0102) High Bit                            US: 7\n",
            "(0028, 0103) Pixel Representation                US: 0\n",
            "(0028, 2110) Lossy Image Compression             CS: '01'\n",
            "(0028, 2114) Lossy Image Compression Method      CS: 'ISO_10918_1'\n",
            "(7fe0, 0010) Pixel Data                          OB: Array of 142006 elements\n",
            "\n",
            "(0010, 0020) Patient ID                          LO: '0004cfab-14fd-4e49-80ba-63a80b6bddd6'\n",
            "\n",
            "\n",
            "\n",
            "51\n",
            "F\n"
          ],
          "name": "stdout"
        }
      ]
    },
    {
      "cell_type": "code",
      "metadata": {
        "id": "ZjaPeyk5Khm3"
      },
      "source": [
        "# function to display images\n",
        "import pylab\n",
        "def display_image(img_path):\n",
        "  \"\"\"\n",
        "  Function to display image provided the image path\n",
        "\n",
        "  Args:\n",
        "    img_path = path of the image \n",
        "  \n",
        "  Returns:\n",
        "    None\n",
        "  \"\"\"\n",
        "\n",
        "  im = image_pixel(img_path)\n",
        "  pylab.imshow(im, cmap=pylab.cm.gist_gray)\n",
        "  pylab.axis('off')\n",
        "\n",
        "\n",
        "# function to return image pixel\n",
        "def image_pixel(file_path):\n",
        "  \"\"\"\n",
        "  Function to extract image pixel from dicom files\n",
        "\n",
        "  Args:\n",
        "    file_path: dicom file path\n",
        "  \n",
        "  Returns:\n",
        "    image pixel extracted from dicom file\n",
        "  \"\"\"\n",
        "  dcm_data = pydicom.read_file(file_path)\n",
        "  img_pixel = dcm_data.pixel_array\n",
        "  return img_pixel"
      ],
      "execution_count": null,
      "outputs": []
    },
    {
      "cell_type": "code",
      "metadata": {
        "id": "iskSPBieJKzB",
        "colab": {
          "base_uri": "https://localhost:8080/",
          "height": 248
        },
        "outputId": "e6aed4f2-d253-4b86-b2cc-e02ac516035d"
      },
      "source": [
        "display_image(dcm_file)"
      ],
      "execution_count": null,
      "outputs": [
        {
          "output_type": "display_data",
          "data": {
            "image/png": "[encoded data removed]",
            "text/plain": [
              "<Figure size 432x288 with 1 Axes>"
            ]
          },
          "metadata": {
            "tags": [],
            "needs_background": "light"
          }
        }
      ]
    },
    {
      "cell_type": "code",
      "metadata": {
        "id": "3uDxbG8NMUce",
        "colab": {
          "base_uri": "https://localhost:8080/",
          "height": 375
        },
        "outputId": "02b51bac-68df-4206-d100-8cfc398e5bf9"
      },
      "source": [
        "# testing if the display function for image works\n",
        "image = image_pixel(filenames[500])\n",
        "print(image)\n",
        "display_image(filenames[500])"
      ],
      "execution_count": null,
      "outputs": [
        {
          "output_type": "stream",
          "text": [
            "[[255 203 114 ...   9   9   9]\n",
            " [233 160  96 ...  12  12  12]\n",
            " [180 105  75 ...  12  12  12]\n",
            " ...\n",
            " [160 167 158 ... 103 104 105]\n",
            " [179 166 161 ... 106 104 102]\n",
            " [204 170 166 ... 110 110 109]]\n"
          ],
          "name": "stdout"
        },
        {
          "output_type": "display_data",
          "data": {
            "image/png": "[encoded data removed]",
            "text/plain": [
              "<Figure size 432x288 with 1 Axes>"
            ]
          },
          "metadata": {
            "tags": [],
            "needs_background": "light"
          }
        }
      ]
    },
    {
      "cell_type": "code",
      "metadata": {
        "id": "cpmRU1F_5Mj8",
        "colab": {
          "base_uri": "https://localhost:8080/",
          "height": 237
        },
        "outputId": "91165fa0-a465-4270-81c3-58e9f121f92c"
      },
      "source": [
        "# create pathnames from dicom files\n",
        "filenames = ['drive/My Drive/Data/pneumonia-data/stage_2_train_images/'+fname+'.dcm' for fname in labels_csv['patientId']]\n",
        "print(len(filenames))\n",
        "#check the first 10\n",
        "filenames[:10]"
      ],
      "execution_count": null,
      "outputs": [
        {
          "output_type": "stream",
          "text": [
            "30227\n"
          ],
          "name": "stdout"
        },
        {
          "output_type": "execute_result",
          "data": {
            "text/plain": [
              "['drive/My Drive/Data/pneumonia-data/stage_2_train_images/0004cfab-14fd-4e49-80ba-63a80b6bddd6.dcm',\n",
              " 'drive/My Drive/Data/pneumonia-data/stage_2_train_images/00313ee0-9eaa-42f4-b0ab-c148ed3241cd.dcm',\n",
              " 'drive/My Drive/Data/pneumonia-data/stage_2_train_images/00322d4d-1c29-4943-afc9-b6754be640eb.dcm',\n",
              " 'drive/My Drive/Data/pneumonia-data/stage_2_train_images/003d8fa0-6bf1-40ed-b54c-ac657f8495c5.dcm',\n",
              " 'drive/My Drive/Data/pneumonia-data/stage_2_train_images/00436515-870c-4b36-a041-de91049b9ab4.dcm',\n",
              " 'drive/My Drive/Data/pneumonia-data/stage_2_train_images/00436515-870c-4b36-a041-de91049b9ab4.dcm',\n",
              " 'drive/My Drive/Data/pneumonia-data/stage_2_train_images/00569f44-917d-4c86-a842-81832af98c30.dcm',\n",
              " 'drive/My Drive/Data/pneumonia-data/stage_2_train_images/006cec2e-6ce2-4549-bffa-eadfcd1e9970.dcm',\n",
              " 'drive/My Drive/Data/pneumonia-data/stage_2_train_images/00704310-78a8-4b38-8475-49f4573b2dbb.dcm',\n",
              " 'drive/My Drive/Data/pneumonia-data/stage_2_train_images/00704310-78a8-4b38-8475-49f4573b2dbb.dcm']"
            ]
          },
          "metadata": {
            "tags": []
          },
          "execution_count": 8
        }
      ]
    },
    {
      "cell_type": "code",
      "metadata": {
        "id": "TkuYJt6XMZKb",
        "colab": {
          "base_uri": "https://localhost:8080/",
          "height": 54
        },
        "outputId": "51f2f2e9-3847-4a87-e9da-74d4ee3488d5"
      },
      "source": [
        "# Check whether number of filenames matches number of actual image files\n",
        "import os\n",
        "if len(os.listdir('drive/My Drive/Data/pneumonia-data/stage_2_train_images/')) == len(filenames):\n",
        "  print('Filenames match the actual file length!!')\n",
        "else:\n",
        "  print('Filenames doesn\\'t match the acutal file length')\n",
        "\n",
        "print(len(os.listdir('drive/My Drive/Data/pneumonia-data/stage_2_train_images/')),len(filenames))\n",
        "\n"
      ],
      "execution_count": null,
      "outputs": [
        {
          "output_type": "stream",
          "text": [
            "Filenames doesn't match the acutal file length\n",
            "26684 30227\n"
          ],
          "name": "stdout"
        }
      ]
    },
    {
      "cell_type": "code",
      "metadata": {
        "id": "396q4I62PsyW",
        "colab": {
          "base_uri": "https://localhost:8080/",
          "height": 54
        },
        "outputId": "b7f6cf11-1555-4ff2-bb70-ccbd5c0c4b87"
      },
      "source": [
        "print('Total number of files: {}'.format(len(labels_csv)))\n",
        "# number of unique patientId\n",
        "print(\"Number of unique patient {}\".format(len(np.unique(labels_csv['patientId']))))"
      ],
      "execution_count": null,
      "outputs": [
        {
          "output_type": "stream",
          "text": [
            "Total number of files: 30227\n",
            "Number of unique patient 26684\n"
          ],
          "name": "stdout"
        }
      ]
    },
    {
      "cell_type": "markdown",
      "metadata": {
        "id": "RNygwjAwONWx"
      },
      "source": [
        "Number of images doesn't match the number of files of patientID which means all the dicom files of the patient is not in the dataset. There are 26684 train dicom files and 3000 test dicom files which doesn't sum up to 30227(total was 29684 combining both train and test). But while looking for unique patientId found there were only 26684 unique patient. Hence, there were repeated number of patient records.\n",
        "\n",
        "Now, let's remove the duplicates."
      ]
    },
    {
      "cell_type": "code",
      "metadata": {
        "id": "a82I_FnoJ2qo",
        "colab": {
          "base_uri": "https://localhost:8080/",
          "height": 54
        },
        "outputId": "6b0ca94e-f990-4051-a68d-fcb6da22accb"
      },
      "source": [
        "# new dataFrame without duplicate values\n",
        "new_df = labels_csv.drop_duplicates('patientId',ignore_index=True)\n",
        "print('Total number of patient records {}'.format(len(new_df)))\n",
        "print('Number of unique patient records {}'.format(len(np.unique(new_df['patientId']))))"
      ],
      "execution_count": null,
      "outputs": [
        {
          "output_type": "stream",
          "text": [
            "Total number of patient records 26684\n",
            "Number of unique patient records 26684\n"
          ],
          "name": "stdout"
        }
      ]
    },
    {
      "cell_type": "markdown",
      "metadata": {
        "id": "BLvEpXDRLUWn"
      },
      "source": [
        "Let's check the number of records of each classes(pneumonia(1) & not pnuemonia(0))"
      ]
    },
    {
      "cell_type": "code",
      "metadata": {
        "id": "d79XSAmxLLeZ",
        "colab": {
          "base_uri": "https://localhost:8080/",
          "height": 72
        },
        "outputId": "dcbed865-4cc8-424a-d951-e1d932a1cf60"
      },
      "source": [
        "new_df['Target'].value_counts()"
      ],
      "execution_count": null,
      "outputs": [
        {
          "output_type": "execute_result",
          "data": {
            "text/plain": [
              "0    20672\n",
              "1     6012\n",
              "Name: Target, dtype: int64"
            ]
          },
          "metadata": {
            "tags": []
          },
          "execution_count": 15
        }
      ]
    },
    {
      "cell_type": "markdown",
      "metadata": {
        "id": "mfzcMDHpLn7R"
      },
      "source": [
        "There are 20672 number of records without pnuemonia while only 6012 records with pneumonia case. If we take this data and try to create training and validation datasets there will be class imbalance. This will result in baised model due to greater number of pneumonia absent cases in the training data.\n",
        "\n",
        "Let's make it clear by creating the both datasets"
      ]
    },
    {
      "cell_type": "code",
      "metadata": {
        "id": "iMsT_tR4LnbO",
        "colab": {
          "base_uri": "https://localhost:8080/",
          "height": 54
        },
        "outputId": "2e5e3338-0d33-4f22-ec79-a82627d410fd"
      },
      "source": [
        "# lets implement the value_counts of pandas using custom \n",
        "# function for any given list\n",
        "def list_value_counts(l):\n",
        "  \"\"\"\n",
        "  Function returns dict containing the keys as values and values as counts\n",
        "  for given list\n",
        "\n",
        "  Args:\n",
        "    l: given list\n",
        "  Returns:\n",
        "    dictionary containing value counts of the list\n",
        "  \"\"\"\n",
        "\n",
        "  # creating empty dictionary\n",
        "  val_count = dict()\n",
        "  # looping over the elements of the list\n",
        "  for item in l:\n",
        "    if item not in val_count:\n",
        "      val_count[item] =1\n",
        "    else:\n",
        "      val_count[item] +=1\n",
        "\n",
        "  return val_count\n",
        "\n",
        "\n",
        "\n",
        "# we are using scikit-learn to divide the train and valid sets\n",
        "from sklearn.model_selection import train_test_split\n",
        "\n",
        "\n",
        "# we need shuffled data, so we're using sample from pandas\n",
        "# using frac=0.3 gives best result for our target classes\n",
        "#df = combined_df.sample(frac=0.7,random_state=42)\n",
        "\n",
        "X = new_df.drop('Target',axis=1)\n",
        "y = new_df['Target']\n",
        "\n",
        "#print(X.shape,y.shape)\n",
        "\n",
        "# train:valid (80:20) ratio with shuffle and \n",
        "# random state 42(for recreating the event) with 5000 datasets\n",
        "X_train,X_valid,y_train,y_valid = train_test_split(X,y,\n",
        "                                                   test_size=0.2,\n",
        "                                                   random_state=42)\n",
        "\n",
        "# check classes in each datasets\n",
        "#print(X_train.shape,X_valid.shape)\n",
        "print('Training dataset: {}'.format(list_value_counts(y_train)))\n",
        "print('Validation dataset: {}'.format(list_value_counts(y_valid)))"
      ],
      "execution_count": null,
      "outputs": [
        {
          "output_type": "stream",
          "text": [
            "Training dataset: {0: 16564, 1: 4783}\n",
            "Validation dataset: {0: 4108, 1: 1229}\n"
          ],
          "name": "stdout"
        }
      ]
    },
    {
      "cell_type": "markdown",
      "metadata": {
        "id": "UCRkKQ0WNVbA"
      },
      "source": [
        "As expected, we can see the class imbalance from the above dictionary for both training and validation datasets.\n",
        "\n",
        "Now, let's try to balance the datasets and then create the train and validation datasets."
      ]
    },
    {
      "cell_type": "code",
      "metadata": {
        "id": "kLG0YEB9LMJD",
        "colab": {
          "base_uri": "https://localhost:8080/",
          "height": 54
        },
        "outputId": "3609906b-f8bf-4f29-c376-cd974af68c8b"
      },
      "source": [
        "# take equal number of both the classes then split the dataset\n",
        "\n",
        "# total pnuemonia patient in our dataset\n",
        "NUM_PNUE = len(new_df[new_df['Target']==1])\n",
        "# noraml patient with number of pnuemonia data\n",
        "normal_df = new_df.loc[new_df['Target']==0][:NUM_PNUE]\n",
        "print('Number of normal patient',normal_df.shape)\n",
        "#pnuemonia patient\n",
        "pnuemonia_df = new_df.loc[new_df['Target'] ==1]\n",
        "print('Number of neumonia patient',pnuemonia_df.shape)\n",
        "# combine both the dataFrame, default is concat vertically(by index)\n",
        "combined_df = pd.concat([pnuemonia_df,normal_df],ignore_index=True)"
      ],
      "execution_count": null,
      "outputs": [
        {
          "output_type": "stream",
          "text": [
            "Number of normal patient (6012, 6)\n",
            "Number of neumonia patient (6012, 6)\n"
          ],
          "name": "stdout"
        }
      ]
    },
    {
      "cell_type": "code",
      "metadata": {
        "id": "wC-l4dWCOonN",
        "colab": {
          "base_uri": "https://localhost:8080/",
          "height": 54
        },
        "outputId": "970d7227-9db1-4382-ea4a-ba41bc0b452f"
      },
      "source": [
        "# let's try again to create the datasets after balancing the whole data\n",
        "\n",
        "X = combined_df.drop('Target',axis=1)\n",
        "y = combined_df['Target']\n",
        "\n",
        "#print(X.shape,y.shape)\n",
        "\n",
        "# train:valid (80:20) ratio with shuffle and \n",
        "# random state 42(for recreating the event) with 5000 datasets\n",
        "X_train,X_valid,y_train,y_valid = train_test_split(X,y,\n",
        "                                                   test_size=0.2,\n",
        "                                                   random_state=42)\n",
        "\n",
        "# check classes in each datasets\n",
        "#print(X_train.shape,X_valid.shape)\n",
        "print('Training dataset: {}'.format(list_value_counts(y_train)))\n",
        "print('Validation dataset: {}'.format(list_value_counts(y_valid)))"
      ],
      "execution_count": null,
      "outputs": [
        {
          "output_type": "stream",
          "text": [
            "Training dataset: {1: 4806, 0: 4813}\n",
            "Validation dataset: {1: 1206, 0: 1199}\n"
          ],
          "name": "stdout"
        }
      ]
    },
    {
      "cell_type": "markdown",
      "metadata": {
        "id": "PjrWLPdIPNs8"
      },
      "source": [
        "From above, we saw there was a close to balance datasets, consisting only 7 more data in normal than in pneumonia case for both the datasets."
      ]
    },
    {
      "cell_type": "markdown",
      "metadata": {
        "id": "Mvt44h-mPy5O"
      },
      "source": [
        "###### Extracting images and metadata related to patient from the dicom files\n",
        "\n",
        "Here, we're extracting images and metadata( Age, Sex for analysis of different age group and sex) from patient dicom files using custom methods. \n",
        "\n",
        "Note: For more details on the custom methods check the dicomutils.py file."
      ]
    },
    {
      "cell_type": "code",
      "metadata": {
        "id": "5jZVHVc9PJC8",
        "colab": {
          "base_uri": "https://localhost:8080/",
          "height": 35
        },
        "outputId": "5580842b-bd14-4e94-b1f6-dbb13ed51d24"
      },
      "source": [
        "train_files = [x for x in X_train['patientId']]\n",
        "valid_files = [x for x in X_valid['patientId']]\n",
        "len(train_files),len(valid_files)"
      ],
      "execution_count": null,
      "outputs": [
        {
          "output_type": "execute_result",
          "data": {
            "text/plain": [
              "(9619, 2405)"
            ]
          },
          "metadata": {
            "tags": []
          },
          "execution_count": 26
        }
      ]
    },
    {
      "cell_type": "code",
      "metadata": {
        "id": "GVOfnmm0RYAz"
      },
      "source": [
        "# calling custom class Dicomutils for extraction\n",
        "from dicomutils import Dicomutils\n",
        "\n",
        "base_path = os.getcwd()\n",
        "src_path = os.path.join(base_path,'stage_2_train_images')\n",
        "\n",
        "des_path = base_path\n",
        "\n",
        "d = Dicomutils(src_path,des_path)"
      ],
      "execution_count": null,
      "outputs": []
    },
    {
      "cell_type": "code",
      "metadata": {
        "id": "n_nX-lUoRlT8"
      },
      "source": [
        "# converts the images placing into train and valid folder accordingly as well as\n",
        "# outputs csv file containing the metadata for each patient\n",
        "d.extract_patient_data(train_files,valid_files)"
      ],
      "execution_count": null,
      "outputs": []
    },
    {
      "cell_type": "code",
      "metadata": {
        "id": "XfC77hkiRxhl",
        "colab": {
          "base_uri": "https://localhost:8080/",
          "height": 198
        },
        "outputId": "6de3e360-e274-4645-d134-28e295c7d67f"
      },
      "source": [
        "# reading the newly created csv file\n",
        "meta_df = pd.read_csv('drive/My Drive/Data/pneumonia-data/patient_records.csv')\n",
        "meta_df.head()"
      ],
      "execution_count": null,
      "outputs": [
        {
          "output_type": "execute_result",
          "data": {
            "text/html": [
              "<div>\n",
              "<style scoped>\n",
              "    .dataframe tbody tr th:only-of-type {\n",
              "        vertical-align: middle;\n",
              "    }\n",
              "\n",
              "    .dataframe tbody tr th {\n",
              "        vertical-align: top;\n",
              "    }\n",
              "\n",
              "    .dataframe thead th {\n",
              "        text-align: right;\n",
              "    }\n",
              "</style>\n",
              "<table border=\"1\" class=\"dataframe\">\n",
              "  <thead>\n",
              "    <tr style=\"text-align: right;\">\n",
              "      <th></th>\n",
              "      <th>Patient_Id</th>\n",
              "      <th>Age</th>\n",
              "      <th>Sex</th>\n",
              "    </tr>\n",
              "  </thead>\n",
              "  <tbody>\n",
              "    <tr>\n",
              "      <th>0</th>\n",
              "      <td>b70a7d7e-3e11-4a74-998f-67eabfa438df</td>\n",
              "      <td>37</td>\n",
              "      <td>M</td>\n",
              "    </tr>\n",
              "    <tr>\n",
              "      <th>1</th>\n",
              "      <td>274f1a78-5887-4694-8fd6-a1847d9bc486</td>\n",
              "      <td>36</td>\n",
              "      <td>F</td>\n",
              "    </tr>\n",
              "    <tr>\n",
              "      <th>2</th>\n",
              "      <td>62829608-8d5e-4159-bcc6-366960fd1949</td>\n",
              "      <td>49</td>\n",
              "      <td>F</td>\n",
              "    </tr>\n",
              "    <tr>\n",
              "      <th>3</th>\n",
              "      <td>b6276787-bf66-4151-9f7a-b3d7fdf5ae30</td>\n",
              "      <td>33</td>\n",
              "      <td>M</td>\n",
              "    </tr>\n",
              "    <tr>\n",
              "      <th>4</th>\n",
              "      <td>8810a730-3f76-408d-ac9d-cef6e9629c89</td>\n",
              "      <td>42</td>\n",
              "      <td>M</td>\n",
              "    </tr>\n",
              "  </tbody>\n",
              "</table>\n",
              "</div>"
            ],
            "text/plain": [
              "                             Patient_Id  Age Sex\n",
              "0  b70a7d7e-3e11-4a74-998f-67eabfa438df   37   M\n",
              "1  274f1a78-5887-4694-8fd6-a1847d9bc486   36   F\n",
              "2  62829608-8d5e-4159-bcc6-366960fd1949   49   F\n",
              "3  b6276787-bf66-4151-9f7a-b3d7fdf5ae30   33   M\n",
              "4  8810a730-3f76-408d-ac9d-cef6e9629c89   42   M"
            ]
          },
          "metadata": {
            "tags": []
          },
          "execution_count": 36
        }
      ]
    },
    {
      "cell_type": "code",
      "metadata": {
        "id": "3K2GCakKSsJx"
      },
      "source": [
        "# merge combined_df and new_df\n",
        "temp_df = combined_df.merge(meta_df,on='patientId',how='inner')"
      ],
      "execution_count": null,
      "outputs": []
    },
    {
      "cell_type": "code",
      "metadata": {
        "id": "5g9kBZnXS2m0"
      },
      "source": [
        "temp_df.to_csv('patient_final.csv',index=False)"
      ],
      "execution_count": null,
      "outputs": []
    },
    {
      "cell_type": "code",
      "metadata": {
        "id": "78hPid3VS8Ok",
        "colab": {
          "base_uri": "https://localhost:8080/",
          "height": 198
        },
        "outputId": "9ca3edd6-9c8a-4597-ceb2-1085dfd1a861"
      },
      "source": [
        "# reading the newly created dataFrame\n",
        "final_df = pd.read_csv('drive/My Drive/Data/pneumonia-data/patient_final.csv')\n",
        "final_df.head()"
      ],
      "execution_count": null,
      "outputs": [
        {
          "output_type": "execute_result",
          "data": {
            "text/html": [
              "<div>\n",
              "<style scoped>\n",
              "    .dataframe tbody tr th:only-of-type {\n",
              "        vertical-align: middle;\n",
              "    }\n",
              "\n",
              "    .dataframe tbody tr th {\n",
              "        vertical-align: top;\n",
              "    }\n",
              "\n",
              "    .dataframe thead th {\n",
              "        text-align: right;\n",
              "    }\n",
              "</style>\n",
              "<table border=\"1\" class=\"dataframe\">\n",
              "  <thead>\n",
              "    <tr style=\"text-align: right;\">\n",
              "      <th></th>\n",
              "      <th>patientId</th>\n",
              "      <th>x</th>\n",
              "      <th>y</th>\n",
              "      <th>width</th>\n",
              "      <th>height</th>\n",
              "      <th>Target</th>\n",
              "      <th>age</th>\n",
              "      <th>sex</th>\n",
              "    </tr>\n",
              "  </thead>\n",
              "  <tbody>\n",
              "    <tr>\n",
              "      <th>0</th>\n",
              "      <td>00436515-870c-4b36-a041-de91049b9ab4</td>\n",
              "      <td>264.0</td>\n",
              "      <td>152.0</td>\n",
              "      <td>213.0</td>\n",
              "      <td>379.0</td>\n",
              "      <td>1</td>\n",
              "      <td>32</td>\n",
              "      <td>F</td>\n",
              "    </tr>\n",
              "    <tr>\n",
              "      <th>1</th>\n",
              "      <td>00704310-78a8-4b38-8475-49f4573b2dbb</td>\n",
              "      <td>323.0</td>\n",
              "      <td>577.0</td>\n",
              "      <td>160.0</td>\n",
              "      <td>104.0</td>\n",
              "      <td>1</td>\n",
              "      <td>75</td>\n",
              "      <td>M</td>\n",
              "    </tr>\n",
              "    <tr>\n",
              "      <th>2</th>\n",
              "      <td>00aecb01-a116-45a2-956c-08d2fa55433f</td>\n",
              "      <td>288.0</td>\n",
              "      <td>322.0</td>\n",
              "      <td>94.0</td>\n",
              "      <td>135.0</td>\n",
              "      <td>1</td>\n",
              "      <td>6</td>\n",
              "      <td>F</td>\n",
              "    </tr>\n",
              "    <tr>\n",
              "      <th>3</th>\n",
              "      <td>00c0b293-48e7-4e16-ac76-9269ba535a62</td>\n",
              "      <td>306.0</td>\n",
              "      <td>544.0</td>\n",
              "      <td>168.0</td>\n",
              "      <td>244.0</td>\n",
              "      <td>1</td>\n",
              "      <td>23</td>\n",
              "      <td>F</td>\n",
              "    </tr>\n",
              "    <tr>\n",
              "      <th>4</th>\n",
              "      <td>00f08de1-517e-4652-a04f-d1dc9ee48593</td>\n",
              "      <td>181.0</td>\n",
              "      <td>184.0</td>\n",
              "      <td>206.0</td>\n",
              "      <td>506.0</td>\n",
              "      <td>1</td>\n",
              "      <td>58</td>\n",
              "      <td>M</td>\n",
              "    </tr>\n",
              "  </tbody>\n",
              "</table>\n",
              "</div>"
            ],
            "text/plain": [
              "                              patientId      x      y  ...  Target  age  sex\n",
              "0  00436515-870c-4b36-a041-de91049b9ab4  264.0  152.0  ...       1   32    F\n",
              "1  00704310-78a8-4b38-8475-49f4573b2dbb  323.0  577.0  ...       1   75    M\n",
              "2  00aecb01-a116-45a2-956c-08d2fa55433f  288.0  322.0  ...       1    6    F\n",
              "3  00c0b293-48e7-4e16-ac76-9269ba535a62  306.0  544.0  ...       1   23    F\n",
              "4  00f08de1-517e-4652-a04f-d1dc9ee48593  181.0  184.0  ...       1   58    M\n",
              "\n",
              "[5 rows x 8 columns]"
            ]
          },
          "metadata": {
            "tags": []
          },
          "execution_count": 10
        }
      ]
    },
    {
      "cell_type": "markdown",
      "metadata": {
        "id": "x0ks5lGvV65U"
      },
      "source": [
        "###### Section for EDA(Exploratory Data Analysis)\n",
        "\n",
        "Let's analysis the data."
      ]
    },
    {
      "cell_type": "code",
      "metadata": {
        "id": "_nwFcFrcZNN-",
        "colab": {
          "base_uri": "https://localhost:8080/",
          "height": 126
        },
        "outputId": "940f8bf0-17e2-414d-f5ee-c4a09723dbb5"
      },
      "source": [
        "group_gender = final_df.groupby(['Target','sex'])['sex'].size()\n",
        "group_gender"
      ],
      "execution_count": null,
      "outputs": [
        {
          "output_type": "execute_result",
          "data": {
            "text/plain": [
              "Target  sex\n",
              "0       F      2619\n",
              "        M      3393\n",
              "1       F      2502\n",
              "        M      3510\n",
              "Name: sex, dtype: int64"
            ]
          },
          "metadata": {
            "tags": []
          },
          "execution_count": 38
        }
      ]
    },
    {
      "cell_type": "code",
      "metadata": {
        "id": "5BjMyVAKdjcF",
        "colab": {
          "base_uri": "https://localhost:8080/",
          "height": 279
        },
        "outputId": "9a259efc-6982-4651-970e-59d8481a9e44"
      },
      "source": [
        "group_gender.plot.bar()\n",
        "plt.xticks(rotation=0)\n",
        "plt.show()"
      ],
      "execution_count": null,
      "outputs": [
        {
          "output_type": "display_data",
          "data": {
            "image/png": "[encoded data removed]",
            "text/plain": [
              "<Figure size 432x288 with 1 Axes>"
            ]
          },
          "metadata": {
            "tags": [],
            "needs_background": "light"
          }
        }
      ]
    },
    {
      "cell_type": "markdown",
      "metadata": {
        "id": "F9yOHsARd5uP"
      },
      "source": [
        "From the graph, we can see that there are more records of male compared to female."
      ]
    },
    {
      "cell_type": "code",
      "metadata": {
        "id": "FcBi_N8meUHn",
        "colab": {
          "base_uri": "https://localhost:8080/",
          "height": 90
        },
        "outputId": "66945b3f-7081-4920-d325-6b489030d2c7"
      },
      "source": [
        "for index,item in group_gender.items():\n",
        "  print(index,item)"
      ],
      "execution_count": null,
      "outputs": [
        {
          "output_type": "stream",
          "text": [
            "(0, 'F') 2619\n",
            "(0, 'M') 3393\n",
            "(1, 'F') 2502\n",
            "(1, 'M') 3510\n"
          ],
          "name": "stdout"
        }
      ]
    },
    {
      "cell_type": "code",
      "metadata": {
        "id": "LKCn_jywg3-9",
        "colab": {
          "base_uri": "https://localhost:8080/",
          "height": 54
        },
        "outputId": "0f39e28b-f309-43b1-a6b9-aaf80f326bd0"
      },
      "source": [
        "ratio_female = group_gender[0][0] /group_gender[1][0]\n",
        "print('Female normal to pneumonia case ratio = {}'.format(ratio_female))\n",
        "ratio_male = group_gender[0][1] /group_gender[1][1]\n",
        "print('Male normal to pneumonia case ratio = {}'.format(ratio_male))"
      ],
      "execution_count": null,
      "outputs": [
        {
          "output_type": "stream",
          "text": [
            "Female normal to pneumonia case ratio = 1.0467625899280575\n",
            "Male normal to pneumonia case ratio = 0.9666666666666667\n"
          ],
          "name": "stdout"
        }
      ]
    },
    {
      "cell_type": "markdown",
      "metadata": {
        "id": "QsUM4_xHhqss"
      },
      "source": [
        "Here, normal to pneumonia case ratio is higher for male compared to female. This signifies that pneumonia case for male are comparatively high as number of pneumonia cases are higher in male than in female according to given data.\n",
        "\n",
        "Let's explore the data for understanding effects pneumonia on different age group."
      ]
    },
    {
      "cell_type": "code",
      "metadata": {
        "id": "yK8CeBVbADf-",
        "colab": {
          "base_uri": "https://localhost:8080/",
          "height": 181
        },
        "outputId": "3676cb0f-be0d-4805-fdb4-eba3c58de121"
      },
      "source": [
        "final_df['age'].describe()"
      ],
      "execution_count": null,
      "outputs": [
        {
          "output_type": "execute_result",
          "data": {
            "text/plain": [
              "count    12024.000000\n",
              "mean        46.659348\n",
              "std         16.982587\n",
              "min          1.000000\n",
              "25%         34.000000\n",
              "50%         49.000000\n",
              "75%         59.000000\n",
              "max        148.000000\n",
              "Name: age, dtype: float64"
            ]
          },
          "metadata": {
            "tags": []
          },
          "execution_count": 6
        }
      ]
    },
    {
      "cell_type": "markdown",
      "metadata": {
        "id": "JTNVP_SOAqY8"
      },
      "source": [
        "Max age is 148 which is obvious outlier(as oldest person ever lived was of age 122 according to Guinessworldrecords). \n",
        "\n",
        "Let's remove the outliers"
      ]
    },
    {
      "cell_type": "code",
      "metadata": {
        "id": "xo7Sas0dB5nW",
        "colab": {
          "base_uri": "https://localhost:8080/",
          "height": 78
        },
        "outputId": "0c14ccd7-72d1-4200-a2b4-8445d659c060"
      },
      "source": [
        "final_df[final_df['age'] >100]"
      ],
      "execution_count": null,
      "outputs": [
        {
          "output_type": "execute_result",
          "data": {
            "text/html": [
              "<div>\n",
              "<style scoped>\n",
              "    .dataframe tbody tr th:only-of-type {\n",
              "        vertical-align: middle;\n",
              "    }\n",
              "\n",
              "    .dataframe tbody tr th {\n",
              "        vertical-align: top;\n",
              "    }\n",
              "\n",
              "    .dataframe thead th {\n",
              "        text-align: right;\n",
              "    }\n",
              "</style>\n",
              "<table border=\"1\" class=\"dataframe\">\n",
              "  <thead>\n",
              "    <tr style=\"text-align: right;\">\n",
              "      <th></th>\n",
              "      <th>patientId</th>\n",
              "      <th>x</th>\n",
              "      <th>y</th>\n",
              "      <th>width</th>\n",
              "      <th>height</th>\n",
              "      <th>Target</th>\n",
              "      <th>age</th>\n",
              "      <th>sex</th>\n",
              "    </tr>\n",
              "  </thead>\n",
              "  <tbody>\n",
              "    <tr>\n",
              "      <th>8056</th>\n",
              "      <td>3b8b8777-a1f6-4384-872a-28b95f59bf0d</td>\n",
              "      <td>NaN</td>\n",
              "      <td>NaN</td>\n",
              "      <td>NaN</td>\n",
              "      <td>NaN</td>\n",
              "      <td>0</td>\n",
              "      <td>148</td>\n",
              "      <td>M</td>\n",
              "    </tr>\n",
              "  </tbody>\n",
              "</table>\n",
              "</div>"
            ],
            "text/plain": [
              "                                 patientId   x   y  ...  Target  age  sex\n",
              "8056  3b8b8777-a1f6-4384-872a-28b95f59bf0d NaN NaN  ...       0  148    M\n",
              "\n",
              "[1 rows x 8 columns]"
            ]
          },
          "metadata": {
            "tags": []
          },
          "execution_count": 13
        }
      ]
    },
    {
      "cell_type": "code",
      "metadata": {
        "id": "gL5I9FfcApyi"
      },
      "source": [
        "# removing the only one outlier age 148\n",
        "patient_df =final_df[final_df['age'] <=100]"
      ],
      "execution_count": null,
      "outputs": []
    },
    {
      "cell_type": "code",
      "metadata": {
        "id": "TgDxd0INC7LZ",
        "colab": {
          "base_uri": "https://localhost:8080/",
          "height": 35
        },
        "outputId": "7526c7b5-080f-48a2-d1ce-cc580507f87f"
      },
      "source": [
        "type(patient_df['age'].values[0])"
      ],
      "execution_count": null,
      "outputs": [
        {
          "output_type": "execute_result",
          "data": {
            "text/plain": [
              "numpy.int64"
            ]
          },
          "metadata": {
            "tags": []
          },
          "execution_count": 15
        }
      ]
    },
    {
      "cell_type": "code",
      "metadata": {
        "id": "__oN4HYDCBon"
      },
      "source": [
        "def age_category(age):\n",
        "  \"\"\"\n",
        "  Function that introduces age category in the dataFrame\n",
        "\n",
        "  Args:\n",
        "    df: dataFrame\n",
        "\n",
        "  Returns:\n",
        "    df: updated dataFrame with age category\"\"\"\n",
        "\n",
        "  if age <=12:\n",
        "    return 'child'\n",
        "  elif age> 12 and age < 19:\n",
        "    return 'adolescence'\n",
        "  elif age>18 and age <60:\n",
        "    return 'adult'\n",
        "  else:\n",
        "    return 'senior adult'"
      ],
      "execution_count": null,
      "outputs": []
    },
    {
      "cell_type": "code",
      "metadata": {
        "id": "DyX40LDrH_0r"
      },
      "source": [
        "import warnings\n",
        "warnings.filterwarnings('ignore')\n",
        "patient_df['age_category'] = patient_df['age'].apply(lambda val: age_category(val))"
      ],
      "execution_count": null,
      "outputs": []
    },
    {
      "cell_type": "code",
      "metadata": {
        "id": "EJgUEVBQK-bY",
        "colab": {
          "base_uri": "https://localhost:8080/",
          "height": 108
        },
        "outputId": "1342ba66-a0d7-4845-e2a4-0af7ccd7f3a6"
      },
      "source": [
        "patient_df['age_category'].value_counts()"
      ],
      "execution_count": null,
      "outputs": [
        {
          "output_type": "execute_result",
          "data": {
            "text/plain": [
              "adult           8428\n",
              "senior adult    2879\n",
              "adolescence      423\n",
              "child            293\n",
              "Name: age_category, dtype: int64"
            ]
          },
          "metadata": {
            "tags": []
          },
          "execution_count": 21
        }
      ]
    },
    {
      "cell_type": "code",
      "metadata": {
        "id": "OQhJiZ1LEaXH",
        "colab": {
          "base_uri": "https://localhost:8080/",
          "height": 285
        },
        "outputId": "91d46132-13f7-4871-f01b-f3181f639b9e"
      },
      "source": [
        "patient_df.sample(5)"
      ],
      "execution_count": null,
      "outputs": [
        {
          "output_type": "execute_result",
          "data": {
            "text/html": [
              "<div>\n",
              "<style scoped>\n",
              "    .dataframe tbody tr th:only-of-type {\n",
              "        vertical-align: middle;\n",
              "    }\n",
              "\n",
              "    .dataframe tbody tr th {\n",
              "        vertical-align: top;\n",
              "    }\n",
              "\n",
              "    .dataframe thead th {\n",
              "        text-align: right;\n",
              "    }\n",
              "</style>\n",
              "<table border=\"1\" class=\"dataframe\">\n",
              "  <thead>\n",
              "    <tr style=\"text-align: right;\">\n",
              "      <th></th>\n",
              "      <th>patientId</th>\n",
              "      <th>x</th>\n",
              "      <th>y</th>\n",
              "      <th>width</th>\n",
              "      <th>height</th>\n",
              "      <th>Target</th>\n",
              "      <th>age</th>\n",
              "      <th>sex</th>\n",
              "      <th>age_category</th>\n",
              "    </tr>\n",
              "  </thead>\n",
              "  <tbody>\n",
              "    <tr>\n",
              "      <th>11955</th>\n",
              "      <td>64739b6b-2ef7-459e-8604-0578392094bd</td>\n",
              "      <td>NaN</td>\n",
              "      <td>NaN</td>\n",
              "      <td>NaN</td>\n",
              "      <td>NaN</td>\n",
              "      <td>0</td>\n",
              "      <td>11</td>\n",
              "      <td>F</td>\n",
              "      <td>child</td>\n",
              "    </tr>\n",
              "    <tr>\n",
              "      <th>5206</th>\n",
              "      <td>e65d66fe-2835-4e27-859b-a65065758cab</td>\n",
              "      <td>555.0</td>\n",
              "      <td>243.0</td>\n",
              "      <td>209.0</td>\n",
              "      <td>365.0</td>\n",
              "      <td>1</td>\n",
              "      <td>58</td>\n",
              "      <td>M</td>\n",
              "      <td>adult</td>\n",
              "    </tr>\n",
              "    <tr>\n",
              "      <th>9430</th>\n",
              "      <td>4b0f3bf3-fa7c-4e6d-9ef9-2d65f485021c</td>\n",
              "      <td>NaN</td>\n",
              "      <td>NaN</td>\n",
              "      <td>NaN</td>\n",
              "      <td>NaN</td>\n",
              "      <td>0</td>\n",
              "      <td>14</td>\n",
              "      <td>F</td>\n",
              "      <td>adolescence</td>\n",
              "    </tr>\n",
              "    <tr>\n",
              "      <th>5952</th>\n",
              "      <td>2ce34f96-40b4-4d2a-b6a1-c7e21e6db8a1</td>\n",
              "      <td>269.0</td>\n",
              "      <td>493.0</td>\n",
              "      <td>218.0</td>\n",
              "      <td>318.0</td>\n",
              "      <td>1</td>\n",
              "      <td>59</td>\n",
              "      <td>M</td>\n",
              "      <td>adult</td>\n",
              "    </tr>\n",
              "    <tr>\n",
              "      <th>10291</th>\n",
              "      <td>5382542a-4669-4044-bd7a-9ff2dad7db6b</td>\n",
              "      <td>NaN</td>\n",
              "      <td>NaN</td>\n",
              "      <td>NaN</td>\n",
              "      <td>NaN</td>\n",
              "      <td>0</td>\n",
              "      <td>17</td>\n",
              "      <td>F</td>\n",
              "      <td>adolescence</td>\n",
              "    </tr>\n",
              "  </tbody>\n",
              "</table>\n",
              "</div>"
            ],
            "text/plain": [
              "                                  patientId      x      y  ...  age  sex  age_category\n",
              "11955  64739b6b-2ef7-459e-8604-0578392094bd    NaN    NaN  ...   11    F         child\n",
              "5206   e65d66fe-2835-4e27-859b-a65065758cab  555.0  243.0  ...   58    M         adult\n",
              "9430   4b0f3bf3-fa7c-4e6d-9ef9-2d65f485021c    NaN    NaN  ...   14    F   adolescence\n",
              "5952   2ce34f96-40b4-4d2a-b6a1-c7e21e6db8a1  269.0  493.0  ...   59    M         adult\n",
              "10291  5382542a-4669-4044-bd7a-9ff2dad7db6b    NaN    NaN  ...   17    F   adolescence\n",
              "\n",
              "[5 rows x 9 columns]"
            ]
          },
          "metadata": {
            "tags": []
          },
          "execution_count": 32
        }
      ]
    },
    {
      "cell_type": "code",
      "metadata": {
        "id": "hVliXzRIKQ7h",
        "colab": {
          "base_uri": "https://localhost:8080/",
          "height": 345
        },
        "outputId": "cf4c26ca-1400-4ee8-d44c-d470ae1aec1d"
      },
      "source": [
        "import seaborn as sns\n",
        "\n",
        "# gorup the values by target\n",
        "\n",
        "group_target = patient_df.groupby(['Target','sex','age_category']).size()\n",
        "group_target"
      ],
      "execution_count": null,
      "outputs": [
        {
          "output_type": "execute_result",
          "data": {
            "text/plain": [
              "Target  sex  age_category\n",
              "0       F    adolescence       66\n",
              "             adult           1877\n",
              "             child             53\n",
              "             senior adult     623\n",
              "        M    adolescence      115\n",
              "             adult           2314\n",
              "             child             55\n",
              "             senior adult     908\n",
              "1       F    adolescence       87\n",
              "             adult           1779\n",
              "             child             86\n",
              "             senior adult     550\n",
              "        M    adolescence      155\n",
              "             adult           2458\n",
              "             child             99\n",
              "             senior adult     798\n",
              "dtype: int64"
            ]
          },
          "metadata": {
            "tags": []
          },
          "execution_count": 92
        }
      ]
    },
    {
      "cell_type": "code",
      "metadata": {
        "id": "c7Mm1V0Zk8Cg",
        "colab": {
          "base_uri": "https://localhost:8080/",
          "height": 199
        },
        "outputId": "eb3aa830-221b-4228-f0a0-b597e958817b"
      },
      "source": [
        "group_age_cat = patient_df.groupby(['Target','age_category']).size()\n",
        "group_age_cat"
      ],
      "execution_count": null,
      "outputs": [
        {
          "output_type": "execute_result",
          "data": {
            "text/plain": [
              "Target  age_category\n",
              "0       adolescence      181\n",
              "        adult           4191\n",
              "        child            108\n",
              "        senior adult    1531\n",
              "1       adolescence      242\n",
              "        adult           4237\n",
              "        child            185\n",
              "        senior adult    1348\n",
              "dtype: int64"
            ]
          },
          "metadata": {
            "tags": []
          },
          "execution_count": 140
        }
      ]
    },
    {
      "cell_type": "code",
      "metadata": {
        "id": "y22nTxjmSDCK",
        "colab": {
          "base_uri": "https://localhost:8080/",
          "height": 369
        },
        "outputId": "0ab6b7d9-38b9-49de-86f0-bf10756d61bb"
      },
      "source": [
        "sns.catplot(x='Target',hue='age_category',kind='count',\n",
        "            palette='pastel',edgecolor='0.6',data=patient_df)\n",
        "\n",
        "plt.show()"
      ],
      "execution_count": null,
      "outputs": [
        {
          "output_type": "display_data",
          "data": {
            "image/png": "[encoded data removed]",
            "text/plain": [
              "<Figure size 458.375x360 with 1 Axes>"
            ]
          },
          "metadata": {
            "tags": [],
            "needs_background": "light"
          }
        }
      ]
    },
    {
      "cell_type": "markdown",
      "metadata": {
        "id": "gAhrKzjaka7p"
      },
      "source": [
        "Even though there are more data of adults and senior adults compared to other age categories, you can see form the data that ratio of pneumonia to normal was highest child(1.71). This is followed by adolescence(1.34), adult(1.01) and senior adult(0.88)\n",
        "\n",
        "Note: This analysis can't be applied to conclude that certain age groups are more effected than other. Because we can't confirm that for sure this sample data represents the intended population."
      ]
    },
    {
      "cell_type": "code",
      "metadata": {
        "id": "N0nFtCdTZYIK",
        "colab": {
          "base_uri": "https://localhost:8080/",
          "height": 35
        },
        "outputId": "6f6010b4-5f7c-4c14-8452-8a2977065ae4"
      },
      "source": [
        "bool_test = (patient_df['sex'] == 'F')  & (patient_df['Target']==1) &(patient_df['age_category']=='adult')\n",
        "\n",
        "len(patient_df.loc[bool_test,['age_category','Target','sex']])"
      ],
      "execution_count": null,
      "outputs": [
        {
          "output_type": "execute_result",
          "data": {
            "text/plain": [
              "1779"
            ]
          },
          "metadata": {
            "tags": []
          },
          "execution_count": 101
        }
      ]
    },
    {
      "cell_type": "code",
      "metadata": {
        "id": "iyQN2bFpbyuE"
      },
      "source": [
        "bool_female_p = (patient_df['sex'] == 'F')  & (patient_df['Target']==1)\n",
        "bool_female_n = (patient_df['sex'] == 'F')  & (patient_df['Target']==0)\n",
        "bool_male_p = (patient_df['sex'] == 'M')  & (patient_df['Target']==1)\n",
        "bool_male_n = (patient_df['sex'] == 'M')  & (patient_df['Target']==0)\n",
        "\n",
        "female_p =patient_df.loc[bool_female_p,['age_category','Target','sex']]\n",
        "female_n =patient_df.loc[bool_female_n,['age_category','Target','sex']]\n",
        "male_p =patient_df.loc[bool_male_p,['age_category','Target','sex']]\n",
        "male_n =patient_df.loc[bool_male_n,['age_category','Target','sex']]"
      ],
      "execution_count": null,
      "outputs": []
    },
    {
      "cell_type": "code",
      "metadata": {
        "id": "WPORud0Qbymd",
        "colab": {
          "base_uri": "https://localhost:8080/",
          "height": 369
        },
        "outputId": "698cb743-5881-485d-a4b9-0ad0f121f070"
      },
      "source": [
        "sns.catplot(x='sex',hue='age_category',kind='count',\n",
        "            palette='pastel',edgecolor='0.6',data=female_p)\n",
        "\n",
        "plt.show()"
      ],
      "execution_count": null,
      "outputs": [
        {
          "output_type": "display_data",
          "data": {
            "image/png": "[encoded data removed]",
            "text/plain": [
              "<Figure size 458.375x360 with 1 Axes>"
            ]
          },
          "metadata": {
            "tags": [],
            "needs_background": "light"
          }
        }
      ]
    },
    {
      "cell_type": "code",
      "metadata": {
        "id": "ht8usUDFgSvk",
        "colab": {
          "base_uri": "https://localhost:8080/",
          "height": 387
        },
        "outputId": "c0f5e279-5cee-4352-fa27-bac296a5fe2d"
      },
      "source": [
        "sns.catplot(x='sex',hue='age_category',kind='count',\n",
        "            palette='pastel',edgecolor='0.6',data=female_p)"
      ],
      "execution_count": null,
      "outputs": [
        {
          "output_type": "execute_result",
          "data": {
            "text/plain": [
              "<seaborn.axisgrid.FacetGrid at 0x7fdb1753f198>"
            ]
          },
          "metadata": {
            "tags": []
          },
          "execution_count": 147
        },
        {
          "output_type": "display_data",
          "data": {
            "image/png": "[encoded data removed]",
            "text/plain": [
              "<Figure size 458.375x360 with 1 Axes>"
            ]
          },
          "metadata": {
            "tags": [],
            "needs_background": "light"
          }
        }
      ]
    },
    {
      "cell_type": "code",
      "metadata": {
        "id": "69mzRz_boeHq",
        "colab": {
          "base_uri": "https://localhost:8080/",
          "height": 387
        },
        "outputId": "cb1f801f-001e-40e6-d892-c4f785a53089"
      },
      "source": [
        "sns.catplot(x='sex',hue='age_category',kind='count',\n",
        "            palette='pastel',edgecolor='0.6',data=female_n)"
      ],
      "execution_count": null,
      "outputs": [
        {
          "output_type": "execute_result",
          "data": {
            "text/plain": [
              "<seaborn.axisgrid.FacetGrid at 0x7fdb1820cc50>"
            ]
          },
          "metadata": {
            "tags": []
          },
          "execution_count": 148
        },
        {
          "output_type": "display_data",
          "data": {
            "image/png": "[encoded data removed]",
            "text/plain": [
              "<Figure size 458.375x360 with 1 Axes>"
            ]
          },
          "metadata": {
            "tags": [],
            "needs_background": "light"
          }
        }
      ]
    },
    {
      "cell_type": "code",
      "metadata": {
        "id": "FLMmUsplogqG",
        "colab": {
          "base_uri": "https://localhost:8080/",
          "height": 387
        },
        "outputId": "59be1455-968c-423a-aac9-bcc1d307f8fd"
      },
      "source": [
        "sns.catplot(x='sex',hue='age_category',kind='count',\n",
        "            palette='pastel',edgecolor='0.6',data=male_p)"
      ],
      "execution_count": null,
      "outputs": [
        {
          "output_type": "execute_result",
          "data": {
            "text/plain": [
              "<seaborn.axisgrid.FacetGrid at 0x7fdb1b6fdf98>"
            ]
          },
          "metadata": {
            "tags": []
          },
          "execution_count": 149
        },
        {
          "output_type": "display_data",
          "data": {
            "image/png": "[encoded data removed]",
            "text/plain": [
              "<Figure size 458.375x360 with 1 Axes>"
            ]
          },
          "metadata": {
            "tags": [],
            "needs_background": "light"
          }
        }
      ]
    },
    {
      "cell_type": "code",
      "metadata": {
        "id": "4K-CZLHWogNw",
        "colab": {
          "base_uri": "https://localhost:8080/",
          "height": 387
        },
        "outputId": "528295ba-6349-4fc7-d307-e8ee4b56e625"
      },
      "source": [
        "sns.catplot(x='sex',hue='age_category',kind='count',\n",
        "            palette='pastel',edgecolor='0.6',data=male_n)"
      ],
      "execution_count": null,
      "outputs": [
        {
          "output_type": "execute_result",
          "data": {
            "text/plain": [
              "<seaborn.axisgrid.FacetGrid at 0x7fdb1c736f28>"
            ]
          },
          "metadata": {
            "tags": []
          },
          "execution_count": 150
        },
        {
          "output_type": "display_data",
          "data": {
            "image/png": "[encoded data removed]",
            "text/plain": [
              "<Figure size 458.375x360 with 1 Axes>"
            ]
          },
          "metadata": {
            "tags": [],
            "needs_background": "light"
          }
        }
      ]
    },
    {
      "cell_type": "markdown",
      "metadata": {
        "id": "7_kcuZJ6EOvB"
      },
      "source": [
        "##### 3. Turning images into Tensor\n",
        "Here we import standard libraries to convert the images to tensor, for making data ready to be feed into the Neural Network.\n",
        "\n",
        "We're using ImageGenerator from keras for this purpose."
      ]
    },
    {
      "cell_type": "code",
      "metadata": {
        "id": "iI7Z_Ka0v793"
      },
      "source": [
        "from keras.preprocessing.image import ImageDataGenerator\n",
        "\n",
        "\n",
        "# challenges:-\n",
        "#1. need both training as well as validation directory\n",
        "# ->Problem: all the data are in same directory\n",
        "# ->solution: separate the files and move to new respective directory..\n",
        "\n",
        "# function to instantiate two image generator\n",
        "\n",
        "def image_generator(train_dir,valid_dir):\n",
        "  \"\"\"\n",
        "  \n",
        "  \"\"\"\n",
        "  # instantiate two image generator classes:\n",
        "  #train data with data agumentation applied\n",
        "  train_datagen = ImageDataGenerator(\n",
        "    rescale =1.0/255,\n",
        "    #data_format='channels_last',\n",
        "    rotation_range =30,\n",
        "    horizontal_flip = True,\n",
        "    fill_mode = 'reflect'\n",
        "  )\n",
        "  # no data agumentationas validation data doesn't require it\n",
        "  valid_datagen = ImageDataGenerator(\n",
        "    rescale=1.0/255,\n",
        "    #data_format='channels_last'      \n",
        "    )\n",
        "\n",
        "  # define the batch size:\n",
        "  batch_size =32\n",
        "\n",
        "  #define the train and validation data generators:\n",
        "  train_generator = train_datagen.flow_from_directory(\n",
        "      directory = train_dir,\n",
        "      target_size =(64,64), # to resize all images with same shape\n",
        "      class_mode ='binary',\n",
        "      batch_size =batch_size,\n",
        "      shuffle=True,\n",
        "      seed = 42\n",
        "  )\n",
        "\n",
        "  # valid gen\n",
        "  valid_generator = valid_datagen.flow_from_directory(\n",
        "      directory = valid_dir,\n",
        "      target_size = (64,64),\n",
        "      class_mode = 'binary',\n",
        "      batch_size =batch_size,\n",
        "      shuffle = True,\n",
        "      seed =42\n",
        "  )\n",
        "\n",
        "  return train_generator,valid_generator"
      ],
      "execution_count": null,
      "outputs": []
    },
    {
      "cell_type": "markdown",
      "metadata": {
        "id": "FiQwcIigLCOI"
      },
      "source": [
        "Now, we can call the Image generator function we define earlier to process the images."
      ]
    },
    {
      "cell_type": "code",
      "metadata": {
        "id": "cQT7bwWtynJv",
        "colab": {
          "base_uri": "https://localhost:8080/",
          "height": 54
        },
        "outputId": "d7c118aa-6c60-4f16-f3c2-cd2544ad425f"
      },
      "source": [
        "import os\n",
        "# common path(main)\n",
        "path = \"drive/My Drive/Data/pneumonia-data\"\n",
        "# source path\n",
        "s_path =os.path.join(path,\"stage_2_train_images\")\n",
        "# destination path\n",
        "des_path =os.path.join(path,\"train\")\n",
        "\n",
        "com_path = des_path\n",
        "print(com_path)\n",
        "print(path)"
      ],
      "execution_count": null,
      "outputs": [
        {
          "output_type": "stream",
          "text": [
            "drive/My Drive/Data/pneumonia-data/train\n",
            "drive/My Drive/Data/pneumonia-data\n"
          ],
          "name": "stdout"
        }
      ]
    },
    {
      "cell_type": "code",
      "metadata": {
        "id": "AdxI75bZLBqW"
      },
      "source": [
        "# train and valid directory path\n",
        "train_path = os.path.join(com_path,\"train\")\n",
        "valid_path = os.path.join(com_path,\"valid\")\n",
        "\n",
        "# calling the image generator function\n",
        "train_gen, valid_gen = image_generator(train_path,valid_path)"
      ],
      "execution_count": null,
      "outputs": []
    },
    {
      "cell_type": "markdown",
      "metadata": {
        "id": "NMpCidyyRwJv"
      },
      "source": [
        "**Problem here is ImageGenerator expect images of different class into different folders...**\n",
        "\n",
        "- create normal and pnuemonia folder\n",
        "- put the appropriate file into these folders\n",
        "\n",
        "Note: Before doing above task, we also have to seperate both training and validation set. After that, we can perform the task of class seperation. Another thing is we can also train the model without moving files into their respective class folder(this process can be found on the dog-breed classification notebook). But as we're trying use Keras ImageGenerator following process is required(moving files to their respective class folder). \n",
        "\n",
        "\n",
        "So, in next few cells, we are going to automate the moving process using python os module."
      ]
    },
    {
      "cell_type": "code",
      "metadata": {
        "id": "uNLzaxveVmhl"
      },
      "source": [
        "#list containig the target classes\n",
        "classes = np.unique(y_train)\n",
        "# for train data\n",
        "d.class_folder(final_df,train_path,classes)\n",
        "# for valid data\n",
        "d.class_folder(final_df,valid_path,classes)"
      ],
      "execution_count": null,
      "outputs": []
    },
    {
      "cell_type": "code",
      "metadata": {
        "id": "Y3s685QbIDSo",
        "colab": {
          "base_uri": "https://localhost:8080/",
          "height": 54
        },
        "outputId": "21995a2a-c1f7-4798-fa35-13b82e44d201"
      },
      "source": [
        "# calling the image generator function\n",
        "train_gen, valid_gen = image_generator(train_path,valid_path)"
      ],
      "execution_count": null,
      "outputs": [
        {
          "output_type": "stream",
          "text": [
            "Found 3817 images belonging to 2 classes.\n",
            "Found 916 images belonging to 2 classes.\n"
          ],
          "name": "stdout"
        }
      ]
    },
    {
      "cell_type": "markdown",
      "metadata": {
        "id": "HEJ-w44NvhWJ"
      },
      "source": [
        "##### Building model (inspired by leNet-5 archtecture)"
      ]
    },
    {
      "cell_type": "code",
      "metadata": {
        "id": "LYRtAs02raCg",
        "colab": {
          "base_uri": "https://localhost:8080/",
          "height": 454
        },
        "outputId": "77368645-04ad-4794-f2c6-5408227c24c2"
      },
      "source": [
        "from keras.models import Sequential\n",
        "from keras.layers import Dense,Dropout\n",
        "from keras.layers import Conv2D, MaxPooling2D \n",
        "from keras.layers import Flatten \n",
        "\n",
        "\n",
        "n_classes =2\n",
        "\n",
        "model = Sequential()\n",
        "\n",
        "# first convolutional layer:\n",
        "model.add(Conv2D(32,kernel_size=(3,3),activation='relu',\n",
        "                input_shape=(64,64,3)))\n",
        "\n",
        "# second conv layer, with pooling and dropout:\n",
        "model.add(Conv2D(64,kernel_size=(3,3),activation='relu'))\n",
        "model.add(MaxPooling2D(pool_size=(2,2)))\n",
        "model.add(Dropout(0.25))\n",
        "model.add(Flatten())\n",
        "\n",
        "# dense hidden layer, with dropout:\n",
        "model.add(Dense(128,activation='relu'))\n",
        "model.add(Dropout(0.5))\n",
        "\n",
        "# output layer:\n",
        "# using unit=1 as output in binary\n",
        "model.add(Dense(units=1,activation='softmax'))\n",
        "model.compile(optimizer='adam',\n",
        "             loss='binary_crossentropy',\n",
        "             metrics=['accuracy'])\n",
        "\n",
        "model.summary()\n"
      ],
      "execution_count": null,
      "outputs": [
        {
          "output_type": "stream",
          "text": [
            "Model: \"sequential_1\"\n",
            "_________________________________________________________________\n",
            "Layer (type)                 Output Shape              Param #   \n",
            "=================================================================\n",
            "conv2d_1 (Conv2D)            (None, 62, 62, 32)        896       \n",
            "_________________________________________________________________\n",
            "conv2d_2 (Conv2D)            (None, 60, 60, 64)        18496     \n",
            "_________________________________________________________________\n",
            "max_pooling2d_1 (MaxPooling2 (None, 30, 30, 64)        0         \n",
            "_________________________________________________________________\n",
            "dropout_1 (Dropout)          (None, 30, 30, 64)        0         \n",
            "_________________________________________________________________\n",
            "flatten_1 (Flatten)          (None, 57600)             0         \n",
            "_________________________________________________________________\n",
            "dense_1 (Dense)              (None, 128)               7372928   \n",
            "_________________________________________________________________\n",
            "dropout_2 (Dropout)          (None, 128)               0         \n",
            "_________________________________________________________________\n",
            "dense_2 (Dense)              (None, 1)                 129       \n",
            "=================================================================\n",
            "Total params: 7,392,449\n",
            "Trainable params: 7,392,449\n",
            "Non-trainable params: 0\n",
            "_________________________________________________________________\n"
          ],
          "name": "stdout"
        }
      ]
    },
    {
      "cell_type": "markdown",
      "metadata": {
        "id": "WfwPV-dKQITj"
      },
      "source": [
        "We, have to resize the image before feed into NN cause its to large to fit in memory...."
      ]
    },
    {
      "cell_type": "code",
      "metadata": {
        "id": "t0SvnxHt3uAt",
        "colab": {
          "base_uri": "https://localhost:8080/",
          "height": 946
        },
        "outputId": "05e9723f-bb0a-472e-b6e3-75479342c879"
      },
      "source": [
        "history = model.fit_generator(train_gen,\n",
        "                    epochs=25,\n",
        "                    validation_data=valid_gen)"
      ],
      "execution_count": null,
      "outputs": [
        {
          "output_type": "stream",
          "text": [
            "Epoch 1/25\n",
            "120/120 [==============================] - 63s 524ms/step - loss: 8.0008 - accuracy: 0.4771 - val_loss: 6.0997 - val_accuracy: 0.4585\n",
            "Epoch 2/25\n",
            "120/120 [==============================] - 57s 473ms/step - loss: 8.0110 - accuracy: 0.4771 - val_loss: 7.6246 - val_accuracy: 0.4585\n",
            "Epoch 3/25\n",
            "120/120 [==============================] - 57s 475ms/step - loss: 8.0211 - accuracy: 0.4771 - val_loss: 6.8622 - val_accuracy: 0.4585\n",
            "Epoch 4/25\n",
            "120/120 [==============================] - 56s 463ms/step - loss: 8.0110 - accuracy: 0.4771 - val_loss: 6.8622 - val_accuracy: 0.4585\n",
            "Epoch 5/25\n",
            "120/120 [==============================] - 56s 464ms/step - loss: 7.9907 - accuracy: 0.4771 - val_loss: 7.6246 - val_accuracy: 0.4585\n",
            "Epoch 6/25\n",
            "120/120 [==============================] - 56s 464ms/step - loss: 8.0211 - accuracy: 0.4771 - val_loss: 9.9120 - val_accuracy: 0.4585\n",
            "Epoch 7/25\n",
            "120/120 [==============================] - 55s 461ms/step - loss: 8.0110 - accuracy: 0.4771 - val_loss: 7.6246 - val_accuracy: 0.4585\n",
            "Epoch 8/25\n",
            "120/120 [==============================] - 55s 459ms/step - loss: 8.0008 - accuracy: 0.4771 - val_loss: 11.4369 - val_accuracy: 0.4585\n",
            "Epoch 9/25\n",
            "120/120 [==============================] - 55s 461ms/step - loss: 8.0211 - accuracy: 0.4771 - val_loss: 9.9120 - val_accuracy: 0.4585\n",
            "Epoch 10/25\n",
            "120/120 [==============================] - 55s 459ms/step - loss: 8.0110 - accuracy: 0.4771 - val_loss: 6.0997 - val_accuracy: 0.4585\n",
            "Epoch 11/25\n",
            "120/120 [==============================] - 56s 465ms/step - loss: 8.0110 - accuracy: 0.4771 - val_loss: 9.9120 - val_accuracy: 0.4585\n",
            "Epoch 12/25\n",
            "120/120 [==============================] - 56s 463ms/step - loss: 8.0110 - accuracy: 0.4771 - val_loss: 7.6246 - val_accuracy: 0.4585\n",
            "Epoch 13/25\n",
            "120/120 [==============================] - 55s 460ms/step - loss: 8.0312 - accuracy: 0.4771 - val_loss: 6.8622 - val_accuracy: 0.4585\n",
            "Epoch 14/25\n",
            "120/120 [==============================] - 56s 467ms/step - loss: 8.0110 - accuracy: 0.4771 - val_loss: 9.1495 - val_accuracy: 0.4585\n",
            "Epoch 15/25\n",
            "120/120 [==============================] - 56s 463ms/step - loss: 8.0312 - accuracy: 0.4771 - val_loss: 6.8622 - val_accuracy: 0.4585\n",
            "Epoch 16/25\n",
            "120/120 [==============================] - 56s 464ms/step - loss: 8.0413 - accuracy: 0.4771 - val_loss: 9.1495 - val_accuracy: 0.4585\n",
            "Epoch 17/25\n",
            "120/120 [==============================] - 56s 465ms/step - loss: 8.0413 - accuracy: 0.4771 - val_loss: 8.3871 - val_accuracy: 0.4585\n",
            "Epoch 18/25\n",
            "120/120 [==============================] - 55s 454ms/step - loss: 8.0413 - accuracy: 0.4771 - val_loss: 3.0498 - val_accuracy: 0.4585\n",
            "Epoch 19/25\n",
            "120/120 [==============================] - 55s 457ms/step - loss: 8.0413 - accuracy: 0.4771 - val_loss: 7.6246 - val_accuracy: 0.4585\n",
            "Epoch 20/25\n",
            "120/120 [==============================] - 55s 459ms/step - loss: 8.0110 - accuracy: 0.4771 - val_loss: 8.3871 - val_accuracy: 0.4585\n",
            "Epoch 21/25\n",
            "120/120 [==============================] - 54s 451ms/step - loss: 8.0008 - accuracy: 0.4771 - val_loss: 9.1495 - val_accuracy: 0.4585\n",
            "Epoch 22/25\n",
            "120/120 [==============================] - 54s 450ms/step - loss: 8.0008 - accuracy: 0.4771 - val_loss: 7.6246 - val_accuracy: 0.4585\n",
            "Epoch 23/25\n",
            "120/120 [==============================] - 54s 448ms/step - loss: 8.0110 - accuracy: 0.4771 - val_loss: 10.6745 - val_accuracy: 0.4585\n",
            "Epoch 24/25\n",
            "120/120 [==============================] - 55s 456ms/step - loss: 8.0211 - accuracy: 0.4771 - val_loss: 10.6745 - val_accuracy: 0.4585\n",
            "Epoch 25/25\n",
            "120/120 [==============================] - 54s 453ms/step - loss: 8.0008 - accuracy: 0.4771 - val_loss: 7.6246 - val_accuracy: 0.4585\n"
          ],
          "name": "stdout"
        }
      ]
    },
    {
      "cell_type": "code",
      "metadata": {
        "id": "PcyXPPuPJ4Gt"
      },
      "source": [
        "import matplotlib.pyplot as plt\n",
        "# function to plot the graph for trained model\n",
        "\n",
        "def graph_trained_model(history,epochs):\n",
        "  \"\"\"\n",
        "  Function to show to graph of the trained model for evaluation\n",
        "\n",
        "  Args:\n",
        "    history: dictionary containing model performace history\n",
        "    epochs: number of iteration the model is trained on\n",
        "\n",
        "  Returns:\n",
        "    None\n",
        "  \"\"\"\n",
        "  acc = history.history['accuracy']\n",
        "  val_acc = history.history['val_accuracy']\n",
        "\n",
        "  loss = history.history['loss']\n",
        "  val_loss = history.history['val_loss']\n",
        "\n",
        "  epochs_range = range(epochs)\n",
        "\n",
        "  plt.figure(figsize=(8, 8))\n",
        "  plt.subplot(1, 2, 1)\n",
        "  plt.plot(epochs_range, acc, label='Training Accuracy')\n",
        "  plt.plot(epochs_range, val_acc, label='Validation Accuracy')\n",
        "  plt.legend(loc='lower right')\n",
        "  plt.title('Training and Validation Accuracy')\n",
        "\n",
        "  plt.subplot(1, 2, 2)\n",
        "  plt.plot(epochs_range, loss, label='Training Loss')\n",
        "  plt.plot(epochs_range, val_loss, label='Validation Loss')\n",
        "  plt.legend(loc='upper right')\n",
        "  plt.title('Training and Validation Loss')\n",
        "  plt.show()"
      ],
      "execution_count": null,
      "outputs": []
    },
    {
      "cell_type": "code",
      "metadata": {
        "id": "MKKUV08Yf_9i",
        "colab": {
          "base_uri": "https://localhost:8080/",
          "height": 499
        },
        "outputId": "5fc6cea4-5f7a-4c08-ad54-c70d5191dcd0"
      },
      "source": [
        "graph_trained_model(history,25)"
      ],
      "execution_count": null,
      "outputs": [
        {
          "output_type": "display_data",
          "data": {
            "image/png": "[encoded data removed]",
            "text/plain": [
              "<Figure size 576x576 with 2 Axes>"
            ]
          },
          "metadata": {
            "tags": [],
            "needs_background": "light"
          }
        }
      ]
    },
    {
      "cell_type": "markdown",
      "metadata": {
        "id": "lGHufYURk9uT"
      },
      "source": [
        "The model inspired by LeNet architecture didn't perform well. As we can see the model was not able to learn from the graph(Straight line). So, we are to experiement with different architecture(modified the mode architecture) for model improvement."
      ]
    },
    {
      "cell_type": "markdown",
      "metadata": {
        "id": "mhr_ON51gcGv"
      },
      "source": [
        "#### Trying out another model architecture "
      ]
    },
    {
      "cell_type": "code",
      "metadata": {
        "id": "_f2VNLXFvYYh",
        "colab": {
          "base_uri": "https://localhost:8080/",
          "height": 35
        },
        "outputId": "d25f36d9-2742-4d9c-e6f8-6d76d2839ac3"
      },
      "source": [
        "from keras.models import Sequential\n",
        "from keras.layers import Convolution2D\n",
        "from keras.layers import MaxPooling2D\n",
        "from keras.layers import Flatten\n",
        "from keras.layers import Dense"
      ],
      "execution_count": null,
      "outputs": [
        {
          "output_type": "stream",
          "text": [
            "Using TensorFlow backend.\n"
          ],
          "name": "stderr"
        }
      ]
    },
    {
      "cell_type": "code",
      "metadata": {
        "id": "dZai5k2HgbXu",
        "colab": {
          "base_uri": "https://localhost:8080/",
          "height": 345
        },
        "outputId": "bf089cd3-f792-452b-edad-d176e0e2af2a"
      },
      "source": [
        "def model_create():\n",
        "    model = Sequential()\n",
        "    model.add(Convolution2D(32,(3,3),input_shape=(64,64,3),activation='relu'))\n",
        "    model.add(MaxPooling2D((2,2)))\n",
        "    model.add(Flatten())\n",
        "    model.add(Dense(units=128,activation='relu'))\n",
        "    model.add(Dense(units=1,activation='sigmoid'))\n",
        "    model.compile(optimizer ='adam',loss='binary_crossentropy',metrics=['accuracy'])\n",
        "    return model\n",
        "\n",
        "model = model_create()\n",
        "model.summary()"
      ],
      "execution_count": null,
      "outputs": [
        {
          "output_type": "stream",
          "text": [
            "Model: \"sequential_3\"\n",
            "_________________________________________________________________\n",
            "Layer (type)                 Output Shape              Param #   \n",
            "=================================================================\n",
            "conv2d_5 (Conv2D)            (None, 62, 62, 32)        896       \n",
            "_________________________________________________________________\n",
            "max_pooling2d_3 (MaxPooling2 (None, 31, 31, 32)        0         \n",
            "_________________________________________________________________\n",
            "flatten_3 (Flatten)          (None, 30752)             0         \n",
            "_________________________________________________________________\n",
            "dense_5 (Dense)              (None, 128)               3936384   \n",
            "_________________________________________________________________\n",
            "dense_6 (Dense)              (None, 1)                 129       \n",
            "=================================================================\n",
            "Total params: 3,937,409\n",
            "Trainable params: 3,937,409\n",
            "Non-trainable params: 0\n",
            "_________________________________________________________________\n"
          ],
          "name": "stdout"
        }
      ]
    },
    {
      "cell_type": "code",
      "metadata": {
        "id": "f4TlKq0bgyBa",
        "colab": {
          "base_uri": "https://localhost:8080/",
          "height": 946
        },
        "outputId": "45c01587-e147-4a78-eb00-12f067031040"
      },
      "source": [
        "history1 = model.fit_generator(train_gen,\n",
        "                    epochs=25,\n",
        "                    validation_data=valid_gen)"
      ],
      "execution_count": null,
      "outputs": [
        {
          "output_type": "stream",
          "text": [
            "Epoch 1/25\n",
            "120/120 [==============================] - 62s 513ms/step - loss: 0.7331 - accuracy: 0.6453 - val_loss: 0.8837 - val_accuracy: 0.6910\n",
            "Epoch 2/25\n",
            "120/120 [==============================] - 56s 469ms/step - loss: 0.5542 - accuracy: 0.7286 - val_loss: 0.6904 - val_accuracy: 0.7271\n",
            "Epoch 3/25\n",
            "120/120 [==============================] - 56s 467ms/step - loss: 0.5534 - accuracy: 0.7218 - val_loss: 0.7759 - val_accuracy: 0.7205\n",
            "Epoch 4/25\n",
            "120/120 [==============================] - 56s 464ms/step - loss: 0.5468 - accuracy: 0.7286 - val_loss: 0.5137 - val_accuracy: 0.7293\n",
            "Epoch 5/25\n",
            "120/120 [==============================] - 56s 470ms/step - loss: 0.5411 - accuracy: 0.7312 - val_loss: 0.7760 - val_accuracy: 0.7140\n",
            "Epoch 6/25\n",
            "120/120 [==============================] - 55s 460ms/step - loss: 0.5436 - accuracy: 0.7291 - val_loss: 0.6226 - val_accuracy: 0.6932\n",
            "Epoch 7/25\n",
            "120/120 [==============================] - 55s 462ms/step - loss: 0.5302 - accuracy: 0.7417 - val_loss: 0.7406 - val_accuracy: 0.7271\n",
            "Epoch 8/25\n",
            "120/120 [==============================] - 55s 455ms/step - loss: 0.5220 - accuracy: 0.7414 - val_loss: 0.6247 - val_accuracy: 0.7151\n",
            "Epoch 9/25\n",
            "120/120 [==============================] - 55s 459ms/step - loss: 0.5250 - accuracy: 0.7519 - val_loss: 0.8137 - val_accuracy: 0.7183\n",
            "Epoch 10/25\n",
            "120/120 [==============================] - 56s 470ms/step - loss: 0.5214 - accuracy: 0.7506 - val_loss: 0.5488 - val_accuracy: 0.7216\n",
            "Epoch 11/25\n",
            "120/120 [==============================] - 55s 459ms/step - loss: 0.5194 - accuracy: 0.7495 - val_loss: 0.6639 - val_accuracy: 0.7020\n",
            "Epoch 12/25\n",
            "120/120 [==============================] - 55s 458ms/step - loss: 0.5211 - accuracy: 0.7524 - val_loss: 0.5981 - val_accuracy: 0.7194\n",
            "Epoch 13/25\n",
            "120/120 [==============================] - 56s 463ms/step - loss: 0.5196 - accuracy: 0.7498 - val_loss: 0.4551 - val_accuracy: 0.7183\n",
            "Epoch 14/25\n",
            "120/120 [==============================] - 55s 459ms/step - loss: 0.5188 - accuracy: 0.7509 - val_loss: 0.5281 - val_accuracy: 0.7293\n",
            "Epoch 15/25\n",
            "120/120 [==============================] - 55s 457ms/step - loss: 0.5202 - accuracy: 0.7422 - val_loss: 0.6968 - val_accuracy: 0.7194\n",
            "Epoch 16/25\n",
            "120/120 [==============================] - 56s 468ms/step - loss: 0.5074 - accuracy: 0.7529 - val_loss: 0.5393 - val_accuracy: 0.7238\n",
            "Epoch 17/25\n",
            "120/120 [==============================] - 55s 458ms/step - loss: 0.5139 - accuracy: 0.7556 - val_loss: 0.6479 - val_accuracy: 0.7227\n",
            "Epoch 18/25\n",
            "120/120 [==============================] - 55s 462ms/step - loss: 0.5171 - accuracy: 0.7506 - val_loss: 0.5882 - val_accuracy: 0.7162\n",
            "Epoch 19/25\n",
            "120/120 [==============================] - 54s 454ms/step - loss: 0.5092 - accuracy: 0.7600 - val_loss: 0.4213 - val_accuracy: 0.7183\n",
            "Epoch 20/25\n",
            "120/120 [==============================] - 54s 450ms/step - loss: 0.5040 - accuracy: 0.7577 - val_loss: 0.5417 - val_accuracy: 0.7303\n",
            "Epoch 21/25\n",
            "120/120 [==============================] - 54s 449ms/step - loss: 0.5146 - accuracy: 0.7600 - val_loss: 0.6003 - val_accuracy: 0.7151\n",
            "Epoch 22/25\n",
            "120/120 [==============================] - 54s 453ms/step - loss: 0.5075 - accuracy: 0.7605 - val_loss: 0.3700 - val_accuracy: 0.6987\n",
            "Epoch 23/25\n",
            "120/120 [==============================] - 54s 449ms/step - loss: 0.4980 - accuracy: 0.7621 - val_loss: 0.5457 - val_accuracy: 0.7205\n",
            "Epoch 24/25\n",
            "120/120 [==============================] - 54s 452ms/step - loss: 0.5005 - accuracy: 0.7605 - val_loss: 0.4789 - val_accuracy: 0.7314\n",
            "Epoch 25/25\n",
            "120/120 [==============================] - 54s 452ms/step - loss: 0.5000 - accuracy: 0.7611 - val_loss: 0.4502 - val_accuracy: 0.7129\n"
          ],
          "name": "stdout"
        }
      ]
    },
    {
      "cell_type": "code",
      "metadata": {
        "id": "W-mqbmqvssLW",
        "colab": {
          "base_uri": "https://localhost:8080/",
          "height": 499
        },
        "outputId": "f0deb628-4f1c-4e46-9176-3e9ec24fee17"
      },
      "source": [
        "graph_trained_model(history1,25)"
      ],
      "execution_count": null,
      "outputs": [
        {
          "output_type": "display_data",
          "data": {
            "image/png": "[encoded data removed]",
            "text/plain": [
              "<Figure size 576x576 with 2 Axes>"
            ]
          },
          "metadata": {
            "tags": [],
            "needs_background": "light"
          }
        }
      ]
    },
    {
      "cell_type": "markdown",
      "metadata": {
        "id": "UD2-dc4Wkq7E"
      },
      "source": [
        "Graph shows there is gradual increase in the training accuracy but validaton loss is consistency. These is the case of neuron saturation or in other sense overfitting.\n",
        "\n",
        "Note: Learning is very slow need to set the learning parameter inoder to check if any improvements can be done."
      ]
    },
    {
      "cell_type": "markdown",
      "metadata": {
        "id": "y91g5rsbvJa3"
      },
      "source": [
        "##### Trying our third model with added second layer in the second model"
      ]
    },
    {
      "cell_type": "code",
      "metadata": {
        "id": "jcgVQe6kvI7M",
        "colab": {
          "base_uri": "https://localhost:8080/",
          "height": 526
        },
        "outputId": "8b06441d-8437-4657-8dff-7ff1467d2acc"
      },
      "source": [
        "def model_create1():\n",
        "    model = Sequential()\n",
        "    model.add(Convolution2D(32,(3,3),input_shape=(64,64,3),activation='relu'))\n",
        "    model.add(MaxPooling2D((2,2)))\n",
        "    # adding dropout\n",
        "    model.add(Dropout(0.25))\n",
        "\n",
        "    # second layer\n",
        "    model.add(Convolution2D(32,(3,3),input_shape=(64,64,3),activation='relu'))\n",
        "    model.add(MaxPooling2D((2,2)))\n",
        "    # adding dropout\n",
        "    model.add(Dropout(0.5))\n",
        "\n",
        "    model.add(Flatten())\n",
        "    model.add(Dense(units=128,activation='relu'))\n",
        "    # adding dropout\n",
        "    model.add(Dropout(0.5))\n",
        "    model.add(Dense(units=1,activation='sigmoid'))\n",
        "    model.compile(optimizer ='adam',loss='binary_crossentropy',metrics=['accuracy'])\n",
        "    return model\n",
        "\n",
        "model1 = model_create1()\n",
        "model1.summary()"
      ],
      "execution_count": null,
      "outputs": [
        {
          "output_type": "stream",
          "text": [
            "Model: \"sequential_5\"\n",
            "_________________________________________________________________\n",
            "Layer (type)                 Output Shape              Param #   \n",
            "=================================================================\n",
            "conv2d_8 (Conv2D)            (None, 62, 62, 32)        896       \n",
            "_________________________________________________________________\n",
            "max_pooling2d_6 (MaxPooling2 (None, 31, 31, 32)        0         \n",
            "_________________________________________________________________\n",
            "dropout_8 (Dropout)          (None, 31, 31, 32)        0         \n",
            "_________________________________________________________________\n",
            "conv2d_9 (Conv2D)            (None, 29, 29, 32)        9248      \n",
            "_________________________________________________________________\n",
            "max_pooling2d_7 (MaxPooling2 (None, 14, 14, 32)        0         \n",
            "_________________________________________________________________\n",
            "dropout_9 (Dropout)          (None, 14, 14, 32)        0         \n",
            "_________________________________________________________________\n",
            "flatten_5 (Flatten)          (None, 6272)              0         \n",
            "_________________________________________________________________\n",
            "dense_9 (Dense)              (None, 128)               802944    \n",
            "_________________________________________________________________\n",
            "dropout_10 (Dropout)         (None, 128)               0         \n",
            "_________________________________________________________________\n",
            "dense_10 (Dense)             (None, 1)                 129       \n",
            "=================================================================\n",
            "Total params: 813,217\n",
            "Trainable params: 813,217\n",
            "Non-trainable params: 0\n",
            "_________________________________________________________________\n"
          ],
          "name": "stdout"
        }
      ]
    },
    {
      "cell_type": "code",
      "metadata": {
        "id": "KEiQL4qDwDU9",
        "colab": {
          "base_uri": "https://localhost:8080/",
          "height": 946
        },
        "outputId": "2139e8fd-891b-4a98-9902-d6e1e572fa9f"
      },
      "source": [
        "history2 = model1.fit_generator(train_gen,\n",
        "                    epochs=25,\n",
        "                    validation_data=valid_gen)"
      ],
      "execution_count": null,
      "outputs": [
        {
          "output_type": "stream",
          "text": [
            "Epoch 1/25\n",
            "120/120 [==============================] - 64s 532ms/step - loss: 0.6357 - accuracy: 0.6269 - val_loss: 0.5610 - val_accuracy: 0.6779\n",
            "Epoch 2/25\n",
            "120/120 [==============================] - 57s 478ms/step - loss: 0.5740 - accuracy: 0.7121 - val_loss: 0.5586 - val_accuracy: 0.7194\n",
            "Epoch 3/25\n",
            "120/120 [==============================] - 57s 476ms/step - loss: 0.5552 - accuracy: 0.7226 - val_loss: 0.5450 - val_accuracy: 0.7107\n",
            "Epoch 4/25\n",
            "120/120 [==============================] - 57s 472ms/step - loss: 0.5520 - accuracy: 0.7299 - val_loss: 0.5943 - val_accuracy: 0.7151\n",
            "Epoch 5/25\n",
            "120/120 [==============================] - 57s 477ms/step - loss: 0.5368 - accuracy: 0.7422 - val_loss: 0.5987 - val_accuracy: 0.7205\n",
            "Epoch 6/25\n",
            "120/120 [==============================] - 56s 469ms/step - loss: 0.5367 - accuracy: 0.7325 - val_loss: 0.6780 - val_accuracy: 0.7129\n",
            "Epoch 7/25\n",
            "120/120 [==============================] - 55s 462ms/step - loss: 0.5354 - accuracy: 0.7414 - val_loss: 0.6619 - val_accuracy: 0.7063\n",
            "Epoch 8/25\n",
            "120/120 [==============================] - 55s 455ms/step - loss: 0.5338 - accuracy: 0.7488 - val_loss: 0.4652 - val_accuracy: 0.7085\n",
            "Epoch 9/25\n",
            "120/120 [==============================] - 55s 454ms/step - loss: 0.5317 - accuracy: 0.7419 - val_loss: 0.4223 - val_accuracy: 0.7129\n",
            "Epoch 10/25\n",
            "120/120 [==============================] - 55s 456ms/step - loss: 0.5286 - accuracy: 0.7474 - val_loss: 0.6379 - val_accuracy: 0.7205\n",
            "Epoch 11/25\n",
            "120/120 [==============================] - 54s 448ms/step - loss: 0.5243 - accuracy: 0.7556 - val_loss: 0.4961 - val_accuracy: 0.7216\n",
            "Epoch 12/25\n",
            "120/120 [==============================] - 55s 455ms/step - loss: 0.5191 - accuracy: 0.7548 - val_loss: 0.4792 - val_accuracy: 0.7118\n",
            "Epoch 13/25\n",
            "120/120 [==============================] - 54s 451ms/step - loss: 0.5175 - accuracy: 0.7548 - val_loss: 0.4318 - val_accuracy: 0.7183\n",
            "Epoch 14/25\n",
            "120/120 [==============================] - 54s 447ms/step - loss: 0.5262 - accuracy: 0.7451 - val_loss: 0.7422 - val_accuracy: 0.7041\n",
            "Epoch 15/25\n",
            "120/120 [==============================] - 54s 448ms/step - loss: 0.5235 - accuracy: 0.7509 - val_loss: 0.3737 - val_accuracy: 0.7172\n",
            "Epoch 16/25\n",
            "120/120 [==============================] - 55s 458ms/step - loss: 0.5125 - accuracy: 0.7564 - val_loss: 0.5161 - val_accuracy: 0.7216\n",
            "Epoch 17/25\n",
            "120/120 [==============================] - 55s 455ms/step - loss: 0.5138 - accuracy: 0.7553 - val_loss: 0.3999 - val_accuracy: 0.7238\n",
            "Epoch 18/25\n",
            "120/120 [==============================] - 53s 443ms/step - loss: 0.5086 - accuracy: 0.7564 - val_loss: 0.6064 - val_accuracy: 0.7260\n",
            "Epoch 19/25\n",
            "120/120 [==============================] - 53s 442ms/step - loss: 0.5180 - accuracy: 0.7556 - val_loss: 0.5288 - val_accuracy: 0.7325\n",
            "Epoch 20/25\n",
            "120/120 [==============================] - 53s 442ms/step - loss: 0.5149 - accuracy: 0.7537 - val_loss: 0.6012 - val_accuracy: 0.7162\n",
            "Epoch 21/25\n",
            "120/120 [==============================] - 53s 444ms/step - loss: 0.5120 - accuracy: 0.7532 - val_loss: 0.6477 - val_accuracy: 0.7238\n",
            "Epoch 22/25\n",
            "120/120 [==============================] - 54s 451ms/step - loss: 0.5088 - accuracy: 0.7590 - val_loss: 0.4381 - val_accuracy: 0.6998\n",
            "Epoch 23/25\n",
            "120/120 [==============================] - 53s 446ms/step - loss: 0.5082 - accuracy: 0.7598 - val_loss: 0.4993 - val_accuracy: 0.7314\n",
            "Epoch 24/25\n",
            "120/120 [==============================] - 53s 442ms/step - loss: 0.5106 - accuracy: 0.7543 - val_loss: 0.6168 - val_accuracy: 0.7194\n",
            "Epoch 25/25\n",
            "120/120 [==============================] - 53s 440ms/step - loss: 0.5069 - accuracy: 0.7645 - val_loss: 0.4743 - val_accuracy: 0.7249\n"
          ],
          "name": "stdout"
        }
      ]
    },
    {
      "cell_type": "code",
      "metadata": {
        "id": "gVJ1oeIq4WLS"
      },
      "source": [
        "graph_trained_model(history2,25)"
      ],
      "execution_count": null,
      "outputs": []
    },
    {
      "cell_type": "markdown",
      "metadata": {
        "id": "eN8sOVx04hXk"
      },
      "source": [
        "Only slight improve of approx. 1.2% improve from the second model with added second layer and dropouts. Dropout here is used for minimizing the overfitting of the model (dropping 25% to 50% neurons during training or other way those neurons are turned off while training.\n",
        "\n",
        "Validation of 72.49% is not enough for the deployment purpose for Deep Learning model(that's what I think as traditional ML model can also achieve this with proper hyperparameter tunning). So, we'll be further exploring different techniques to improve the model efficiency."
      ]
    },
    {
      "cell_type": "markdown",
      "metadata": {
        "id": "etQkmuJgchsl"
      },
      "source": [
        "For better performace model:\n",
        "- Train with more data\n",
        "- Optimization using the model hyperparameter: should look for the sweet spot every hyperparameter \n",
        "  - using more number of iteration i.e increase the number of epochs\n",
        "  - play around with model architecture(adding or removing different layers)\n",
        "\n",
        "- Using Transfer learning technique"
      ]
    },
    {
      "cell_type": "markdown",
      "metadata": {
        "id": "xSxSgy0GIcru"
      },
      "source": [
        "###### Experimenting with 4th model architecture"
      ]
    },
    {
      "cell_type": "code",
      "metadata": {
        "id": "T1ev0BIpIb1e",
        "colab": {
          "base_uri": "https://localhost:8080/",
          "height": 635
        },
        "outputId": "a5d6dca6-6812-4e6c-dca3-caaccb353236"
      },
      "source": [
        "def model_create2():\n",
        "    model = Sequential()\n",
        "    model.add(Convolution2D(32,(3,3),input_shape=(64,64,3),activation='relu'))\n",
        "    model.add(MaxPooling2D((2,2)))\n",
        "    # adding dropout\n",
        "    model.add(Dropout(0.25))\n",
        "\n",
        "    # second layer\n",
        "    model.add(Convolution2D(32,(3,3),input_shape=(64,64,3),activation='relu'))\n",
        "    model.add(MaxPooling2D((2,2)))\n",
        "    # adding dropout\n",
        "    model.add(Dropout(0.25))\n",
        "\n",
        "  # third layer\n",
        "    model.add(Convolution2D(32,(3,3),input_shape=(64,64,3),activation='relu'))\n",
        "    model.add(MaxPooling2D((2,2)))\n",
        "    # adding dropout\n",
        "    model.add(Dropout(0.25))\n",
        "\n",
        "    model.add(Flatten())\n",
        "    model.add(Dense(units=128,activation='relu'))\n",
        "    # adding dropout\n",
        "    model.add(Dropout(0.5))\n",
        "    model.add(Dense(units=1,activation='sigmoid'))\n",
        "    model.compile(optimizer ='adam',loss='binary_crossentropy',metrics=['accuracy'])\n",
        "    return model\n",
        "\n",
        "model2 = model_create2()\n",
        "model2.summary()"
      ],
      "execution_count": null,
      "outputs": [
        {
          "output_type": "stream",
          "text": [
            "Model: \"sequential_3\"\n",
            "_________________________________________________________________\n",
            "Layer (type)                 Output Shape              Param #   \n",
            "=================================================================\n",
            "conv2d_4 (Conv2D)            (None, 62, 62, 32)        896       \n",
            "_________________________________________________________________\n",
            "max_pooling2d_3 (MaxPooling2 (None, 31, 31, 32)        0         \n",
            "_________________________________________________________________\n",
            "dropout_3 (Dropout)          (None, 31, 31, 32)        0         \n",
            "_________________________________________________________________\n",
            "conv2d_5 (Conv2D)            (None, 29, 29, 32)        9248      \n",
            "_________________________________________________________________\n",
            "max_pooling2d_4 (MaxPooling2 (None, 14, 14, 32)        0         \n",
            "_________________________________________________________________\n",
            "dropout_4 (Dropout)          (None, 14, 14, 32)        0         \n",
            "_________________________________________________________________\n",
            "conv2d_6 (Conv2D)            (None, 12, 12, 32)        9248      \n",
            "_________________________________________________________________\n",
            "max_pooling2d_5 (MaxPooling2 (None, 6, 6, 32)          0         \n",
            "_________________________________________________________________\n",
            "dropout_5 (Dropout)          (None, 6, 6, 32)          0         \n",
            "_________________________________________________________________\n",
            "flatten_2 (Flatten)          (None, 1152)              0         \n",
            "_________________________________________________________________\n",
            "dense_3 (Dense)              (None, 128)               147584    \n",
            "_________________________________________________________________\n",
            "dropout_6 (Dropout)          (None, 128)               0         \n",
            "_________________________________________________________________\n",
            "dense_4 (Dense)              (None, 1)                 129       \n",
            "=================================================================\n",
            "Total params: 167,105\n",
            "Trainable params: 167,105\n",
            "Non-trainable params: 0\n",
            "_________________________________________________________________\n"
          ],
          "name": "stdout"
        }
      ]
    },
    {
      "cell_type": "code",
      "metadata": {
        "id": "X6ybETDWI4Og",
        "colab": {
          "base_uri": "https://localhost:8080/",
          "height": 983
        },
        "outputId": "43337516-a1f4-4a60-a476-1a293770e6c9"
      },
      "source": [
        "history2 = model2.fit_generator(train_gen,\n",
        "                    epochs=25,\n",
        "                    validation_data=valid_gen)"
      ],
      "execution_count": null,
      "outputs": [
        {
          "output_type": "stream",
          "text": [
            "Epoch 1/25\n",
            " 59/120 [=============>................] - ETA: 25:10 - loss: 0.6964 - accuracy: 0.5260"
          ],
          "name": "stdout"
        },
        {
          "output_type": "stream",
          "text": [
            "/usr/local/lib/python3.6/dist-packages/keras/utils/data_utils.py:616: UserWarning: The input 71 could not be retrieved. It could be because a worker has died.\n",
            "  UserWarning)\n"
          ],
          "name": "stderr"
        },
        {
          "output_type": "stream",
          "text": [
            "120/120 [==============================] - 3386s 28s/step - loss: 0.6734 - accuracy: 0.5672 - val_loss: 0.5634 - val_accuracy: 0.6954\n",
            "Epoch 2/25\n",
            "120/120 [==============================] - 55s 457ms/step - loss: 0.5904 - accuracy: 0.6977 - val_loss: 0.7590 - val_accuracy: 0.7129\n",
            "Epoch 3/25\n",
            "120/120 [==============================] - 53s 445ms/step - loss: 0.5584 - accuracy: 0.7247 - val_loss: 0.4898 - val_accuracy: 0.7085\n",
            "Epoch 4/25\n",
            "120/120 [==============================] - 53s 446ms/step - loss: 0.5458 - accuracy: 0.7378 - val_loss: 0.5832 - val_accuracy: 0.7249\n",
            "Epoch 5/25\n",
            "120/120 [==============================] - 54s 448ms/step - loss: 0.5352 - accuracy: 0.7404 - val_loss: 0.6399 - val_accuracy: 0.7129\n",
            "Epoch 6/25\n",
            "120/120 [==============================] - 54s 450ms/step - loss: 0.5271 - accuracy: 0.7461 - val_loss: 0.7339 - val_accuracy: 0.7194\n",
            "Epoch 7/25\n",
            "120/120 [==============================] - 54s 451ms/step - loss: 0.5341 - accuracy: 0.7422 - val_loss: 0.4349 - val_accuracy: 0.7140\n",
            "Epoch 8/25\n",
            "120/120 [==============================] - 54s 451ms/step - loss: 0.5318 - accuracy: 0.7448 - val_loss: 0.6592 - val_accuracy: 0.7118\n",
            "Epoch 9/25\n",
            "120/120 [==============================] - 54s 448ms/step - loss: 0.5225 - accuracy: 0.7540 - val_loss: 0.4158 - val_accuracy: 0.7118\n",
            "Epoch 10/25\n",
            "120/120 [==============================] - 54s 453ms/step - loss: 0.5190 - accuracy: 0.7490 - val_loss: 0.4668 - val_accuracy: 0.7118\n",
            "Epoch 11/25\n",
            "120/120 [==============================] - 54s 448ms/step - loss: 0.5226 - accuracy: 0.7490 - val_loss: 0.5173 - val_accuracy: 0.7238\n",
            "Epoch 12/25\n",
            "120/120 [==============================] - 54s 447ms/step - loss: 0.5222 - accuracy: 0.7553 - val_loss: 0.4480 - val_accuracy: 0.7183\n",
            "Epoch 13/25\n",
            "120/120 [==============================] - 54s 448ms/step - loss: 0.5276 - accuracy: 0.7446 - val_loss: 0.5156 - val_accuracy: 0.7140\n",
            "Epoch 14/25\n",
            "120/120 [==============================] - 55s 459ms/step - loss: 0.5220 - accuracy: 0.7529 - val_loss: 0.7284 - val_accuracy: 0.7107\n",
            "Epoch 15/25\n",
            "120/120 [==============================] - 54s 450ms/step - loss: 0.5177 - accuracy: 0.7571 - val_loss: 0.5270 - val_accuracy: 0.7227\n",
            "Epoch 16/25\n",
            "120/120 [==============================] - 54s 452ms/step - loss: 0.5262 - accuracy: 0.7553 - val_loss: 0.7374 - val_accuracy: 0.7085\n",
            "Epoch 17/25\n",
            "120/120 [==============================] - 53s 445ms/step - loss: 0.5162 - accuracy: 0.7561 - val_loss: 0.5766 - val_accuracy: 0.7162\n",
            "Epoch 18/25\n",
            "120/120 [==============================] - 54s 452ms/step - loss: 0.5125 - accuracy: 0.7543 - val_loss: 0.5936 - val_accuracy: 0.7140\n",
            "Epoch 19/25\n",
            "120/120 [==============================] - 54s 449ms/step - loss: 0.5078 - accuracy: 0.7619 - val_loss: 0.5971 - val_accuracy: 0.7227\n",
            "Epoch 20/25\n",
            "120/120 [==============================] - 53s 445ms/step - loss: 0.5154 - accuracy: 0.7569 - val_loss: 0.5525 - val_accuracy: 0.7041\n",
            "Epoch 21/25\n",
            "120/120 [==============================] - 53s 442ms/step - loss: 0.5108 - accuracy: 0.7624 - val_loss: 0.6438 - val_accuracy: 0.7151\n",
            "Epoch 22/25\n",
            "120/120 [==============================] - 53s 438ms/step - loss: 0.5122 - accuracy: 0.7477 - val_loss: 0.5357 - val_accuracy: 0.7020\n",
            "Epoch 23/25\n",
            "120/120 [==============================] - 53s 444ms/step - loss: 0.5140 - accuracy: 0.7529 - val_loss: 0.5166 - val_accuracy: 0.7151\n",
            "Epoch 24/25\n",
            "120/120 [==============================] - 53s 445ms/step - loss: 0.5091 - accuracy: 0.7608 - val_loss: 0.6579 - val_accuracy: 0.7096\n",
            "Epoch 25/25\n",
            "120/120 [==============================] - 54s 447ms/step - loss: 0.5112 - accuracy: 0.7498 - val_loss: 0.5977 - val_accuracy: 0.7205\n"
          ],
          "name": "stdout"
        }
      ]
    },
    {
      "cell_type": "markdown",
      "metadata": {
        "id": "maRgWiWVQxRh"
      },
      "source": [
        "###### Experimenting with Transfer learning with VGGNet19 model architecture"
      ]
    },
    {
      "cell_type": "code",
      "metadata": {
        "id": "Yxs3FhQ0Kh_Z",
        "colab": {
          "base_uri": "https://localhost:8080/",
          "height": 74
        },
        "outputId": "bc362f4e-6be1-4547-a9f4-b52a03feda5a"
      },
      "source": [
        "# load dependencies:\n",
        "from keras.applications.vgg19 import VGG19\n",
        "\n",
        "\n",
        "#load the pre-trained VGG16 model:\n",
        "vgg19 = VGG19(include_top=False,\n",
        "              weights='imagenet',\n",
        "              input_shape=(64,64,3),\n",
        "              pooling=None)\n",
        "\n",
        "\n",
        "# Freeze all the layers in the base VGGNet19 model:\n",
        "\n",
        "for layer in vgg19.layers:\n",
        "  layer.trainable =False"
      ],
      "execution_count": null,
      "outputs": [
        {
          "output_type": "stream",
          "text": [
            "Downloading data from https://github.com/fchollet/deep-learning-models/releases/download/v0.1/vgg19_weights_tf_dim_ordering_tf_kernels_notop.h5\n",
            "80142336/80134624 [==============================] - 3s 0us/step\n"
          ],
          "name": "stdout"
        }
      ]
    },
    {
      "cell_type": "markdown",
      "metadata": {
        "id": "RnnTB4iXgw9u"
      },
      "source": [
        "###### Adding classification layers to transfer learning model"
      ]
    },
    {
      "cell_type": "code",
      "metadata": {
        "id": "LSCBbdUmgo00",
        "colab": {
          "base_uri": "https://localhost:8080/",
          "height": 308
        },
        "outputId": "3130691f-76eb-4dbd-8855-28832ecf37bc"
      },
      "source": [
        "# Instantiate the sequential model and add the VGG19 model:\n",
        "model3 = Sequential()\n",
        "model3.add(vgg19)\n",
        "\n",
        "# Add the custom layers atop the VGG19 model:\n",
        "model3.add(Flatten(name='flattened'))\n",
        "model3.add(Dropout(0.5, name='dropout'))\n",
        "model3.add(Dense(2, activation='softmax', name='predictions'))\n",
        "\n",
        "# Compile the model for training:\n",
        "model3.compile(optimizer='adam', loss='binary_crossentropy',\n",
        "              metrics=['accuracy'])\n",
        "\n",
        "model3.summary()"
      ],
      "execution_count": null,
      "outputs": [
        {
          "output_type": "stream",
          "text": [
            "Model: \"sequential_2\"\n",
            "_________________________________________________________________\n",
            "Layer (type)                 Output Shape              Param #   \n",
            "=================================================================\n",
            "vgg19 (Model)                (None, 2, 2, 512)         20024384  \n",
            "_________________________________________________________________\n",
            "flattened (Flatten)          (None, 2048)              0         \n",
            "_________________________________________________________________\n",
            "dropout (Dropout)            (None, 2048)              0         \n",
            "_________________________________________________________________\n",
            "predictions (Dense)          (None, 2)                 4098      \n",
            "=================================================================\n",
            "Total params: 20,028,482\n",
            "Trainable params: 4,098\n",
            "Non-trainable params: 20,024,384\n",
            "_________________________________________________________________\n"
          ],
          "name": "stdout"
        }
      ]
    },
    {
      "cell_type": "code",
      "metadata": {
        "id": "qu-4W9E4hNUv",
        "colab": {
          "base_uri": "https://localhost:8080/",
          "height": 637
        },
        "outputId": "65c83084-0d0b-46cc-a75c-010584189c59"
      },
      "source": [
        "model.fit_generator(train_gen, steps_per_epoch=15,\n",
        "                    epochs=16, validation_data=valid_gen,\n",
        "                    validation_steps=15)"
      ],
      "execution_count": null,
      "outputs": [
        {
          "output_type": "stream",
          "text": [
            "Epoch 1/16\n",
            "15/15 [==============================] - 475s 32s/step - loss: 7.7625 - accuracy: 0.4938 - val_loss: 9.0542 - val_accuracy: 0.4333\n",
            "Epoch 2/16\n",
            "15/15 [==============================] - 351s 23s/step - loss: 7.7305 - accuracy: 0.4958 - val_loss: 9.0542 - val_accuracy: 0.4808\n",
            "Epoch 3/16\n",
            "15/15 [==============================] - 298s 20s/step - loss: 7.7305 - accuracy: 0.4958 - val_loss: 10.9604 - val_accuracy: 0.4583\n",
            "Epoch 4/16\n",
            "15/15 [==============================] - 374s 25s/step - loss: 8.3374 - accuracy: 0.4563 - val_loss: 8.1012 - val_accuracy: 0.4573\n",
            "Epoch 5/16\n",
            "15/15 [==============================] - 377s 25s/step - loss: 8.4013 - accuracy: 0.4521 - val_loss: 8.1012 - val_accuracy: 0.4667\n",
            "Epoch 6/16\n",
            "15/15 [==============================] - 378s 25s/step - loss: 8.1777 - accuracy: 0.4667 - val_loss: 7.6246 - val_accuracy: 0.4615\n",
            "Epoch 7/16\n",
            "15/15 [==============================] - 346s 23s/step - loss: 7.7530 - accuracy: 0.4967 - val_loss: 7.1481 - val_accuracy: 0.4479\n",
            "Epoch 8/16\n",
            "15/15 [==============================] - 370s 25s/step - loss: 8.2736 - accuracy: 0.4604 - val_loss: 7.6246 - val_accuracy: 0.4679\n",
            "Epoch 9/16\n",
            "15/15 [==============================] - 9s 589ms/step - loss: 8.5930 - accuracy: 0.4396 - val_loss: 10.9604 - val_accuracy: 0.4521\n",
            "Epoch 10/16\n",
            "15/15 [==============================] - 9s 614ms/step - loss: 8.4013 - accuracy: 0.4521 - val_loss: 8.5777 - val_accuracy: 0.4551\n",
            "Epoch 11/16\n",
            "15/15 [==============================] - 8s 549ms/step - loss: 7.6123 - accuracy: 0.5011 - val_loss: 9.5308 - val_accuracy: 0.4542\n",
            "Epoch 12/16\n",
            "15/15 [==============================] - 10s 636ms/step - loss: 8.3694 - accuracy: 0.4542 - val_loss: 7.1481 - val_accuracy: 0.4658\n",
            "Epoch 13/16\n",
            "15/15 [==============================] - 8s 546ms/step - loss: 7.6027 - accuracy: 0.5042 - val_loss: 7.6246 - val_accuracy: 0.4688\n",
            "Epoch 14/16\n",
            "15/15 [==============================] - 10s 659ms/step - loss: 7.5708 - accuracy: 0.5063 - val_loss: 7.6246 - val_accuracy: 0.4402\n",
            "Epoch 15/16\n",
            "15/15 [==============================] - 8s 548ms/step - loss: 7.8583 - accuracy: 0.4875 - val_loss: 8.1012 - val_accuracy: 0.4646\n",
            "Epoch 16/16\n",
            "15/15 [==============================] - 10s 651ms/step - loss: 8.0819 - accuracy: 0.4729 - val_loss: 8.5777 - val_accuracy: 0.4786\n"
          ],
          "name": "stdout"
        },
        {
          "output_type": "execute_result",
          "data": {
            "text/plain": [
              "<keras.callbacks.callbacks.History at 0x7f8a0ef637f0>"
            ]
          },
          "metadata": {
            "tags": []
          },
          "execution_count": 12
        }
      ]
    },
    {
      "cell_type": "markdown",
      "metadata": {
        "id": "KlBXIJecpbaj"
      },
      "source": [
        "**Final thoughts**:\n",
        "\n",
        "Using transfer learnining model VGGNet19 with 19 layers trained on ImageNet images didn't quit perform well compared to our model trained from scratch(47.86% vs 72.5% accuracy). So, one possible way as I mention above is to train the model with more data. With that in mind, experimenting with finding the sweet spots for the models hypermeters in the next step in the process.\n",
        "\n"
      ]
    }
  ]
}