{
  "nbformat": 4,
  "nbformat_minor": 0,
  "metadata": {
    "colab": {
      "name": "End-to-End-Pneumonia-detection.ipynb",
      "provenance": [],
      "mount_file_id": "1S2tzEsxGBnfcpSjo-sKjprnmr41KnFeW",
      "authorship_tag": "ABX9TyOg2ar3R5z6WePYEN56s/1Z",
      "include_colab_link": true
    },
    "kernelspec": {
      "name": "python3",
      "display_name": "Python 3"
    },
    "accelerator": "GPU"
  },
  "cells": [
    {
      "cell_type": "markdown",
      "metadata": {
        "id": "view-in-github",
        "colab_type": "text"
      },
      "source": [
        "<a href=\"https://colab.research.google.com/github/Mattobad/Pneumonia-Detection-Deep-Learning/blob/master/End_to_End_Pneumonia_detection.ipynb\" target=\"_parent\"><img src=\"https://colab.research.google.com/assets/colab-badge.svg\" alt=\"Open In Colab\"/></a>"
      ]
    },
    {
      "cell_type": "code",
      "metadata": {
        "id": "1RmVkHzppSp-",
        "colab_type": "code",
        "colab": {}
      },
      "source": [
        "# process to unzip the file \n",
        "#!unzip \"drive/My Drive/Data/rsna-pneumonia-detection-challenge.zip\" -d \"drive/My Drive/Data/pneumonia-data\""
      ],
      "execution_count": 1,
      "outputs": []
    },
    {
      "cell_type": "markdown",
      "metadata": {
        "id": "J-6xw32MxgYz",
        "colab_type": "text"
      },
      "source": [
        "## End to End image classification for Pneumonia Detection using X-ray Images\n",
        "\n",
        "In this notebook, we're going to implement end to end Binary image classification to detect pneumonia in the x-ray images using Tensorflow 2.0 and Tensorflow Hub\n",
        "\n",
        "###### 1. Problem\n",
        "To detect the traces of pneumonia in the x-ray images.\n",
        "\n",
        "###### 2. Data\n",
        "The data was taken from Kaggle's Pneumonia detection challenge. [Link to the data](https://www.kaggle.com/c/rsna-pneumonia-detection-challenge/data)\n",
        "\n",
        "###### 3. Evaluation\n",
        "Right something about the evaluation metric used\n",
        "\n",
        "\n",
        "**Note:** write more about the project for your audience"
      ]
    },
    {
      "cell_type": "markdown",
      "metadata": {
        "id": "FjQILVmXXEH6",
        "colab_type": "text"
      },
      "source": [
        "##### 1. Making your workspace ready."
      ]
    },
    {
      "cell_type": "code",
      "metadata": {
        "id": "Q6blN52jrMqi",
        "colab_type": "code",
        "colab": {}
      },
      "source": [
        "# Import TF 2.x\n",
        "try:\n",
        "  # %tensorflow_version only exists in Colab\n",
        "  %tensorflow_version 2.x\n",
        "except Exception:\n",
        "  pass"
      ],
      "execution_count": null,
      "outputs": []
    },
    {
      "cell_type": "code",
      "metadata": {
        "id": "AV3QRkocXLSF",
        "colab_type": "code",
        "colab": {
          "base_uri": "https://localhost:8080/",
          "height": 72
        },
        "outputId": "d3b86408-2997-4066-fe61-af441cf66a1d"
      },
      "source": [
        "# Import necessary tools\n",
        "import tensorflow as tf\n",
        "import tensorflow_hub as hub\n",
        "\n",
        "print(\"TF version:\", tf.__version__)\n",
        "\n",
        "print(\"TF HUB version:\", hub.__version__)\n",
        "#Check for GPU availability\n",
        "print(\"GPU\",\"available (YESS!!)\" if tf.config.list_physical_devices(\"GPU\") else \"GPU not available\")"
      ],
      "execution_count": 1,
      "outputs": [
        {
          "output_type": "stream",
          "text": [
            "TF version: 2.2.0\n",
            "TF HUB version: 0.8.0\n",
            "GPU available (YESS!!)\n"
          ],
          "name": "stdout"
        }
      ]
    },
    {
      "cell_type": "code",
      "metadata": {
        "id": "tOmUmGDrbIHP",
        "colab_type": "code",
        "colab": {
          "base_uri": "https://localhost:8080/",
          "height": 274
        },
        "outputId": "5673c92d-c17a-4c6a-89b2-986912278e81"
      },
      "source": [
        "# install the pydicom module as required for patient data\n",
        "!pip install pydicom pypng"
      ],
      "execution_count": 2,
      "outputs": [
        {
          "output_type": "stream",
          "text": [
            "Collecting pydicom\n",
            "\u001b[?25l  Downloading https://files.pythonhosted.org/packages/d3/56/342e1f8ce5afe63bf65c23d0b2c1cd5a05600caad1c211c39725d3a4cc56/pydicom-2.0.0-py3-none-any.whl (35.4MB)\n",
            "\u001b[K     |████████████████████████████████| 35.5MB 77kB/s \n",
            "\u001b[?25hCollecting pypng\n",
            "\u001b[?25l  Downloading https://files.pythonhosted.org/packages/bc/fb/f719f1ac965e2101aa6ea6f54ef8b40f8fbb033f6ad07c017663467f5147/pypng-0.0.20.tar.gz (649kB)\n",
            "\u001b[K     |████████████████████████████████| 655kB 49.2MB/s \n",
            "\u001b[?25hBuilding wheels for collected packages: pypng\n",
            "  Building wheel for pypng (setup.py) ... \u001b[?25l\u001b[?25hdone\n",
            "  Created wheel for pypng: filename=pypng-0.0.20-cp36-none-any.whl size=67161 sha256=0994849bff60e6661963d4fe01cd5a925318c1701e3b086c906bd0bb780dcb1b\n",
            "  Stored in directory: /root/.cache/pip/wheels/41/6b/ef/0493b536b6d4722c2ae9486691b1d49b922b9877922beeabb3\n",
            "Successfully built pypng\n",
            "Installing collected packages: pydicom, pypng\n",
            "Successfully installed pydicom-2.0.0 pypng-0.0.20\n"
          ],
          "name": "stdout"
        }
      ]
    },
    {
      "cell_type": "code",
      "metadata": {
        "id": "WtUoLnb6XOLr",
        "colab_type": "code",
        "colab": {
          "base_uri": "https://localhost:8080/",
          "height": 272
        },
        "outputId": "a3c1379d-14ad-4e84-cc6b-47eb03720959"
      },
      "source": [
        "import pandas as pd\n",
        "import numpy as np\n",
        "import matplotlib.pyplot as plt\n",
        "import pydicom \n",
        "\n",
        "labels_csv = pd.read_csv('drive/My Drive/Data/pneumonia-data/stage_2_train_labels.csv')\n",
        "print(labels_csv.describe())\n",
        "labels_csv.head(2)"
      ],
      "execution_count": 3,
      "outputs": [
        {
          "output_type": "stream",
          "text": [
            "                 x            y        width       height        Target\n",
            "count  9555.000000  9555.000000  9555.000000  9555.000000  30227.000000\n",
            "mean    394.047724   366.839560   218.471376   329.269702      0.316108\n",
            "std     204.574172   148.940488    59.289475   157.750755      0.464963\n",
            "min       2.000000     2.000000    40.000000    45.000000      0.000000\n",
            "25%     207.000000   249.000000   177.000000   203.000000      0.000000\n",
            "50%     324.000000   365.000000   217.000000   298.000000      0.000000\n",
            "75%     594.000000   478.500000   259.000000   438.000000      1.000000\n",
            "max     835.000000   881.000000   528.000000   942.000000      1.000000\n"
          ],
          "name": "stdout"
        },
        {
          "output_type": "execute_result",
          "data": {
            "text/html": [
              "<div>\n",
              "<style scoped>\n",
              "    .dataframe tbody tr th:only-of-type {\n",
              "        vertical-align: middle;\n",
              "    }\n",
              "\n",
              "    .dataframe tbody tr th {\n",
              "        vertical-align: top;\n",
              "    }\n",
              "\n",
              "    .dataframe thead th {\n",
              "        text-align: right;\n",
              "    }\n",
              "</style>\n",
              "<table border=\"1\" class=\"dataframe\">\n",
              "  <thead>\n",
              "    <tr style=\"text-align: right;\">\n",
              "      <th></th>\n",
              "      <th>patientId</th>\n",
              "      <th>x</th>\n",
              "      <th>y</th>\n",
              "      <th>width</th>\n",
              "      <th>height</th>\n",
              "      <th>Target</th>\n",
              "    </tr>\n",
              "  </thead>\n",
              "  <tbody>\n",
              "    <tr>\n",
              "      <th>0</th>\n",
              "      <td>0004cfab-14fd-4e49-80ba-63a80b6bddd6</td>\n",
              "      <td>NaN</td>\n",
              "      <td>NaN</td>\n",
              "      <td>NaN</td>\n",
              "      <td>NaN</td>\n",
              "      <td>0</td>\n",
              "    </tr>\n",
              "    <tr>\n",
              "      <th>1</th>\n",
              "      <td>00313ee0-9eaa-42f4-b0ab-c148ed3241cd</td>\n",
              "      <td>NaN</td>\n",
              "      <td>NaN</td>\n",
              "      <td>NaN</td>\n",
              "      <td>NaN</td>\n",
              "      <td>0</td>\n",
              "    </tr>\n",
              "  </tbody>\n",
              "</table>\n",
              "</div>"
            ],
            "text/plain": [
              "                              patientId   x   y  width  height  Target\n",
              "0  0004cfab-14fd-4e49-80ba-63a80b6bddd6 NaN NaN    NaN     NaN       0\n",
              "1  00313ee0-9eaa-42f4-b0ab-c148ed3241cd NaN NaN    NaN     NaN       0"
            ]
          },
          "metadata": {
            "tags": []
          },
          "execution_count": 3
        }
      ]
    },
    {
      "cell_type": "code",
      "metadata": {
        "id": "8Ej0RcJ5kOWE",
        "colab_type": "code",
        "colab": {
          "base_uri": "https://localhost:8080/",
          "height": 78
        },
        "outputId": "d660e865-71e8-4110-e655-7d4baf2acad0"
      },
      "source": [
        "labels_csv[labels_csv['Target'] == 1][:1] "
      ],
      "execution_count": null,
      "outputs": [
        {
          "output_type": "execute_result",
          "data": {
            "text/html": [
              "<div>\n",
              "<style scoped>\n",
              "    .dataframe tbody tr th:only-of-type {\n",
              "        vertical-align: middle;\n",
              "    }\n",
              "\n",
              "    .dataframe tbody tr th {\n",
              "        vertical-align: top;\n",
              "    }\n",
              "\n",
              "    .dataframe thead th {\n",
              "        text-align: right;\n",
              "    }\n",
              "</style>\n",
              "<table border=\"1\" class=\"dataframe\">\n",
              "  <thead>\n",
              "    <tr style=\"text-align: right;\">\n",
              "      <th></th>\n",
              "      <th>patientId</th>\n",
              "      <th>x</th>\n",
              "      <th>y</th>\n",
              "      <th>width</th>\n",
              "      <th>height</th>\n",
              "      <th>Target</th>\n",
              "    </tr>\n",
              "  </thead>\n",
              "  <tbody>\n",
              "    <tr>\n",
              "      <th>4</th>\n",
              "      <td>00436515-870c-4b36-a041-de91049b9ab4</td>\n",
              "      <td>264.0</td>\n",
              "      <td>152.0</td>\n",
              "      <td>213.0</td>\n",
              "      <td>379.0</td>\n",
              "      <td>1</td>\n",
              "    </tr>\n",
              "  </tbody>\n",
              "</table>\n",
              "</div>"
            ],
            "text/plain": [
              "                              patientId      x      y  width  height  Target\n",
              "4  00436515-870c-4b36-a041-de91049b9ab4  264.0  152.0  213.0   379.0       1"
            ]
          },
          "metadata": {
            "tags": []
          },
          "execution_count": 22
        }
      ]
    },
    {
      "cell_type": "code",
      "metadata": {
        "id": "cevEIdZ3YZAu",
        "colab_type": "code",
        "colab": {
          "base_uri": "https://localhost:8080/",
          "height": 402
        },
        "outputId": "e4ee06fa-14b1-44a0-ef5a-3a08011b1e00"
      },
      "source": [
        "labels_csv.Target.value_counts().plot.bar(figsize=(20,10))"
      ],
      "execution_count": null,
      "outputs": [
        {
          "output_type": "execute_result",
          "data": {
            "text/plain": [
              "<matplotlib.axes._subplots.AxesSubplot at 0x7f73de393b70>"
            ]
          },
          "metadata": {
            "tags": []
          },
          "execution_count": 8
        },
        {
          "output_type": "display_data",
          "data": {
            "image/png": "[encoded data removed]",
            "text/plain": [
              "<Figure size 1440x720 with 1 Axes>"
            ]
          },
          "metadata": {
            "tags": [],
            "needs_background": "light"
          }
        }
      ]
    },
    {
      "cell_type": "code",
      "metadata": {
        "id": "JssquO5oROcM",
        "colab_type": "code",
        "colab": {
          "base_uri": "https://localhost:8080/",
          "height": 72
        },
        "outputId": "45ef5e38-0beb-47b3-f2fc-cbe2155b3b82"
      },
      "source": [
        "labels_csv['Target'].value_counts()"
      ],
      "execution_count": null,
      "outputs": [
        {
          "output_type": "execute_result",
          "data": {
            "text/plain": [
              "0    20672\n",
              "1     9555\n",
              "Name: Target, dtype: int64"
            ]
          },
          "metadata": {
            "tags": []
          },
          "execution_count": 51
        }
      ]
    },
    {
      "cell_type": "markdown",
      "metadata": {
        "id": "X1FsQ7zhRU59",
        "colab_type": "text"
      },
      "source": [
        "So,there are 20672 record of patient without pneumonia and 9555 record of patient with pneumonia"
      ]
    },
    {
      "cell_type": "markdown",
      "metadata": {
        "id": "ppAc87VEEcKn",
        "colab_type": "text"
      },
      "source": [
        "##### 2. Understanding the DICOM(Digital Imaging and Communications in Medicine) files\n",
        "\n",
        "Dicom files consists of all the metadata related to patient and the images. Python library pydicom is used here for exploring the dicom files."
      ]
    },
    {
      "cell_type": "code",
      "metadata": {
        "id": "eLQeqrTaYzS6",
        "colab_type": "code",
        "colab": {
          "base_uri": "https://localhost:8080/",
          "height": 945
        },
        "outputId": "e128ed1a-4148-40f8-ac70-159ac3fa531a"
      },
      "source": [
        "# to read the first patient ID\n",
        "patientId = labels_csv['patientId'][0]\n",
        "dcm_file = 'drive/My Drive/Data/pneumonia-data/stage_2_train_images/%s.dcm' % patientId\n",
        "dcm_data = pydicom.read_file(dcm_file)\n",
        "\n",
        "print(dcm_data)\n",
        "#0004cfab-14fd-4e49-80ba-63a80b6bddd6\n",
        "print()\n",
        "print(dcm_data[\"PatientID\"])\n",
        "print()\n",
        "print()\n",
        "print()\n",
        "print(dcm_data['PatientAge'][:3])\n",
        "print(dcm_data['PatientSex'][0])\n"
      ],
      "execution_count": 6,
      "outputs": [
        {
          "output_type": "stream",
          "text": [
            "Dataset.file_meta -------------------------------\n",
            "(0002, 0000) File Meta Information Group Length  UL: 202\n",
            "(0002, 0001) File Meta Information Version       OB: b'\\x00\\x01'\n",
            "(0002, 0002) Media Storage SOP Class UID         UI: Secondary Capture Image Storage\n",
            "(0002, 0003) Media Storage SOP Instance UID      UI: 1.2.276.0.7230010.3.1.4.8323329.28530.1517874485.775526\n",
            "(0002, 0010) Transfer Syntax UID                 UI: JPEG Baseline (Process 1)\n",
            "(0002, 0012) Implementation Class UID            UI: 1.2.276.0.7230010.3.0.3.6.0\n",
            "(0002, 0013) Implementation Version Name         SH: 'OFFIS_DCMTK_360'\n",
            "-------------------------------------------------\n",
            "(0008, 0005) Specific Character Set              CS: 'ISO_IR 100'\n",
            "(0008, 0016) SOP Class UID                       UI: Secondary Capture Image Storage\n",
            "(0008, 0018) SOP Instance UID                    UI: 1.2.276.0.7230010.3.1.4.8323329.28530.1517874485.775526\n",
            "(0008, 0020) Study Date                          DA: '19010101'\n",
            "(0008, 0030) Study Time                          TM: '000000.00'\n",
            "(0008, 0050) Accession Number                    SH: ''\n",
            "(0008, 0060) Modality                            CS: 'CR'\n",
            "(0008, 0064) Conversion Type                     CS: 'WSD'\n",
            "(0008, 0090) Referring Physician's Name          PN: ''\n",
            "(0008, 103e) Series Description                  LO: 'view: PA'\n",
            "(0010, 0010) Patient's Name                      PN: '0004cfab-14fd-4e49-80ba-63a80b6bddd6'\n",
            "(0010, 0020) Patient ID                          LO: '0004cfab-14fd-4e49-80ba-63a80b6bddd6'\n",
            "(0010, 0030) Patient's Birth Date                DA: ''\n",
            "(0010, 0040) Patient's Sex                       CS: 'F'\n",
            "(0010, 1010) Patient's Age                       AS: '51'\n",
            "(0018, 0015) Body Part Examined                  CS: 'CHEST'\n",
            "(0018, 5101) View Position                       CS: 'PA'\n",
            "(0020, 000d) Study Instance UID                  UI: 1.2.276.0.7230010.3.1.2.8323329.28530.1517874485.775525\n",
            "(0020, 000e) Series Instance UID                 UI: 1.2.276.0.7230010.3.1.3.8323329.28530.1517874485.775524\n",
            "(0020, 0010) Study ID                            SH: ''\n",
            "(0020, 0011) Series Number                       IS: \"1\"\n",
            "(0020, 0013) Instance Number                     IS: \"1\"\n",
            "(0020, 0020) Patient Orientation                 CS: ''\n",
            "(0028, 0002) Samples per Pixel                   US: 1\n",
            "(0028, 0004) Photometric Interpretation          CS: 'MONOCHROME2'\n",
            "(0028, 0010) Rows                                US: 1024\n",
            "(0028, 0011) Columns                             US: 1024\n",
            "(0028, 0030) Pixel Spacing                       DS: [0.14300000000000002, 0.14300000000000002]\n",
            "(0028, 0100) Bits Allocated                      US: 8\n",
            "(0028, 0101) Bits Stored                         US: 8\n",
            "(0028, 0102) High Bit                            US: 7\n",
            "(0028, 0103) Pixel Representation                US: 0\n",
            "(0028, 2110) Lossy Image Compression             CS: '01'\n",
            "(0028, 2114) Lossy Image Compression Method      CS: 'ISO_10918_1'\n",
            "(7fe0, 0010) Pixel Data                          OB: Array of 142006 elements\n",
            "\n",
            "(0010, 0020) Patient ID                          LO: '0004cfab-14fd-4e49-80ba-63a80b6bddd6'\n",
            "\n",
            "\n",
            "\n",
            "51\n",
            "F\n"
          ],
          "name": "stdout"
        }
      ]
    },
    {
      "cell_type": "code",
      "metadata": {
        "id": "ZjaPeyk5Khm3",
        "colab_type": "code",
        "colab": {}
      },
      "source": [
        "# function to display images\n",
        "import pylab\n",
        "def display_image(f):\n",
        "  # dcm_data = pydicom.read_file(f)\n",
        "  # im = dcm_data.pixel_array\n",
        "  im = image_pixel(f)\n",
        "  pylab.imshow(im, cmap=pylab.cm.gist_gray)\n",
        "  pylab.axis('off')\n",
        "\n",
        "\n",
        "# function to return image pixel\n",
        "def image_pixel(file_name):\n",
        "  dcm_data = pydicom.read_file(file_name)\n",
        "  img_pixel = dcm_data.pixel_array\n",
        "  return img_pixel"
      ],
      "execution_count": null,
      "outputs": []
    },
    {
      "cell_type": "code",
      "metadata": {
        "id": "iskSPBieJKzB",
        "colab_type": "code",
        "colab": {
          "base_uri": "https://localhost:8080/",
          "height": 248
        },
        "outputId": "3b2d08f9-bee1-4199-e67f-77dc8e071c9f"
      },
      "source": [
        "display_image(dcm_file)"
      ],
      "execution_count": null,
      "outputs": [
        {
          "output_type": "display_data",
          "data": {
            "image/png": "[encoded data removed]",
            "text/plain": [
              "<Figure size 432x288 with 1 Axes>"
            ]
          },
          "metadata": {
            "tags": [],
            "needs_background": "light"
          }
        }
      ]
    },
    {
      "cell_type": "code",
      "metadata": {
        "id": "yg9NeXvRIMjt",
        "colab_type": "code",
        "colab": {
          "base_uri": "https://localhost:8080/",
          "height": 237
        },
        "outputId": "8a51fa06-c3c6-4d51-823b-90e9dab49d5d"
      },
      "source": [
        "# create pathnames from dicom files\n",
        "filenames = ['drive/My Drive/Data/pneumonia-data/stage_2_train_images/'+fname+'.dcm' for fname in labels_csv['patientId']]\n",
        "print(len(filenames))\n",
        "#check the first 10\n",
        "filenames[:10]\n"
      ],
      "execution_count": null,
      "outputs": [
        {
          "output_type": "stream",
          "text": [
            "30227\n"
          ],
          "name": "stdout"
        },
        {
          "output_type": "execute_result",
          "data": {
            "text/plain": [
              "['drive/My Drive/Data/pneumonia-data/stage_2_train_images/0004cfab-14fd-4e49-80ba-63a80b6bddd6.dcm',\n",
              " 'drive/My Drive/Data/pneumonia-data/stage_2_train_images/00313ee0-9eaa-42f4-b0ab-c148ed3241cd.dcm',\n",
              " 'drive/My Drive/Data/pneumonia-data/stage_2_train_images/00322d4d-1c29-4943-afc9-b6754be640eb.dcm',\n",
              " 'drive/My Drive/Data/pneumonia-data/stage_2_train_images/003d8fa0-6bf1-40ed-b54c-ac657f8495c5.dcm',\n",
              " 'drive/My Drive/Data/pneumonia-data/stage_2_train_images/00436515-870c-4b36-a041-de91049b9ab4.dcm',\n",
              " 'drive/My Drive/Data/pneumonia-data/stage_2_train_images/00436515-870c-4b36-a041-de91049b9ab4.dcm',\n",
              " 'drive/My Drive/Data/pneumonia-data/stage_2_train_images/00569f44-917d-4c86-a842-81832af98c30.dcm',\n",
              " 'drive/My Drive/Data/pneumonia-data/stage_2_train_images/006cec2e-6ce2-4549-bffa-eadfcd1e9970.dcm',\n",
              " 'drive/My Drive/Data/pneumonia-data/stage_2_train_images/00704310-78a8-4b38-8475-49f4573b2dbb.dcm',\n",
              " 'drive/My Drive/Data/pneumonia-data/stage_2_train_images/00704310-78a8-4b38-8475-49f4573b2dbb.dcm']"
            ]
          },
          "metadata": {
            "tags": []
          },
          "execution_count": 9
        }
      ]
    },
    {
      "cell_type": "code",
      "metadata": {
        "id": "BBmsCajrc9P6",
        "colab_type": "code",
        "colab": {
          "base_uri": "https://localhost:8080/",
          "height": 54
        },
        "outputId": "0133b1f3-edc7-4032-afea-2c3a9edd42e6"
      },
      "source": [
        "# import os\n",
        "\n",
        "# path_to_test = \"drive/My Drive/Data/pneumonia-data/stage_2_train_images/\"\n",
        "# # test for file path to get the file name from the directory\n",
        "# files_with_id = [f for f in os.listdir(path_to_test) if f.endswith('.dcm')]\n",
        "# files_with_id[:2]"
      ],
      "execution_count": null,
      "outputs": [
        {
          "output_type": "execute_result",
          "data": {
            "text/plain": [
              "['fbea2dbf-3828-4b0b-a8cf-e1a1e513851b.dcm',\n",
              " 'fc3759df-79a4-41f1-a461-a2d12f09f489.dcm']"
            ]
          },
          "metadata": {
            "tags": []
          },
          "execution_count": 14
        }
      ]
    },
    {
      "cell_type": "code",
      "metadata": {
        "id": "3uDxbG8NMUce",
        "colab_type": "code",
        "colab": {
          "base_uri": "https://localhost:8080/",
          "height": 375
        },
        "outputId": "02b51bac-68df-4206-d100-8cfc398e5bf9"
      },
      "source": [
        "# testing if the display function for image works\n",
        "image = image_pixel(filenames[500])\n",
        "print(image)\n",
        "display_image(filenames[500])"
      ],
      "execution_count": null,
      "outputs": [
        {
          "output_type": "stream",
          "text": [
            "[[255 203 114 ...   9   9   9]\n",
            " [233 160  96 ...  12  12  12]\n",
            " [180 105  75 ...  12  12  12]\n",
            " ...\n",
            " [160 167 158 ... 103 104 105]\n",
            " [179 166 161 ... 106 104 102]\n",
            " [204 170 166 ... 110 110 109]]\n"
          ],
          "name": "stdout"
        },
        {
          "output_type": "display_data",
          "data": {
            "image/png": "[encoded data removed]",
            "text/plain": [
              "<Figure size 432x288 with 1 Axes>"
            ]
          },
          "metadata": {
            "tags": [],
            "needs_background": "light"
          }
        }
      ]
    },
    {
      "cell_type": "code",
      "metadata": {
        "id": "TkuYJt6XMZKb",
        "colab_type": "code",
        "colab": {
          "base_uri": "https://localhost:8080/",
          "height": 54
        },
        "outputId": "51f2f2e9-3847-4a87-e9da-74d4ee3488d5"
      },
      "source": [
        "# Check whether number of filenames matches number of actual image files\n",
        "import os\n",
        "if len(os.listdir('drive/My Drive/Data/pneumonia-data/stage_2_train_images/')) == len(filenames):\n",
        "  print('Filenames match the actual file length!!')\n",
        "else:\n",
        "  print('Filenames doesn\\'t match the acutal file length')\n",
        "\n",
        "print(len(os.listdir('drive/My Drive/Data/pneumonia-data/stage_2_train_images/')),len(filenames))\n",
        "\n"
      ],
      "execution_count": null,
      "outputs": [
        {
          "output_type": "stream",
          "text": [
            "Filenames doesn't match the acutal file length\n",
            "26684 30227\n"
          ],
          "name": "stdout"
        }
      ]
    },
    {
      "cell_type": "code",
      "metadata": {
        "id": "396q4I62PsyW",
        "colab_type": "code",
        "colab": {
          "base_uri": "https://localhost:8080/",
          "height": 54
        },
        "outputId": "9c735c4f-e87b-45e1-fbec-1b8a263f0823"
      },
      "source": [
        "print(len(labels_csv))\n",
        "# number of unique patientId\n",
        "print(\"Number of unique patient {}\".format(len(np.unique(labels_csv['patientId']))))"
      ],
      "execution_count": null,
      "outputs": [
        {
          "output_type": "stream",
          "text": [
            "30227\n",
            "Number of unique patient 26684\n"
          ],
          "name": "stdout"
        }
      ]
    },
    {
      "cell_type": "markdown",
      "metadata": {
        "id": "RNygwjAwONWx",
        "colab_type": "text"
      },
      "source": [
        "Number of images doesn't match the number of files of patientID which means all the dicom files of the patient is not in the dataset. There are 26684 train dicom files and 3000 test dicom files which doesn't sum up to 30227(total was 29684 combining both train and test). But while looking for unique patientId found there were only 26684 unique patient. Some patient have more than one records."
      ]
    },
    {
      "cell_type": "markdown",
      "metadata": {
        "id": "XGsUmZ0mJeN_",
        "colab_type": "text"
      },
      "source": [
        "###### Section for EDA(Exploratory Data Analysis)\n",
        "\n",
        "In this particular section, we're going to extract the metadata of the patient like Patient Sex, Age and other useful resources to analysis the data and get to know who are mainly affected by pneumonia. Final step is to extract the pixel values, convert them to image format to get ready to feed into Neural Network. \n",
        "\n",
        "\n",
        "[link for the function taken for the following code](https://github.com/ajsanjoaquin/COVID-19-Scanner/blob/master/covidtesting_notebook(Resnet34).ipynb)"
      ]
    },
    {
      "cell_type": "code",
      "metadata": {
        "id": "C_OpfZx0JdeK",
        "colab_type": "code",
        "colab": {}
      },
      "source": [
        "# function to get the metadata and convert pixel to image format(png)\n",
        "import os\n",
        "import pydicom\n",
        "from png import Writer\n",
        "\n",
        "\n",
        "def dicom_to_png_metadata(source_path,dist_path,file_name):\n",
        "  \"\"\"\n",
        "  Function returns metadata(Patient sex, age) and additionally \n",
        "  converts the pixel into image format and to folder \n",
        "\n",
        "  Args:\n",
        "    source_path: files source directory\n",
        "    attribute: metadata in dicom file of the patient\n",
        "  \n",
        "  Returns:\n",
        "    metadata related to patient\n",
        "  \"\"\"\n",
        "  ds = pydicom.dcmread(source_path+'/'+file_name+'.dcm')\n",
        "\n",
        "  # list to carry patient info\n",
        "  patient_info = []\n",
        "\n",
        "  # for image pixel to image format\n",
        "  shape = ds.pixel_array.shape\n",
        "\n",
        " \n",
        "  # Convert to float to avoid overflow or underflow losses\n",
        "  image_2d = ds.pixel_array.astype('float32')\n",
        "\n",
        "  # Rescaling grey scale between 0-255\n",
        "  image_2d_scaled = (np.maximum(image_2d,0) / image_2d.max()) * 255.0\n",
        "\n",
        "  # convert to uint\n",
        "  image_2d_scaled = np.uint8(image_2d_scaled)\n",
        "\n",
        "  # patient id for the image file name as required by later process\n",
        "  #file_name = ds[\"PatientID\"]\n",
        "\n",
        "  # Write the PNG file\n",
        "  with open(os.path.join(dist_path,file_name+'.png'),'wb') as png_file:\n",
        "    #print('Converting pixel to image started..')\n",
        "    w = Writer(shape[1],shape[0],greyscale=True)\n",
        "    w.write(png_file,image_2d_scaled)\n",
        "    #print('Conversion finished..')\n",
        "\n",
        "  # try:\n",
        "  #   attribute_value = getattr(ds,attribute)\n",
        "  #   return attribute_value\n",
        "  # except: return np.NaN\n",
        "\n",
        "  # dicom age element was in str and below slice is used only to take the age of\n",
        "  # patient. i.e single character is represented by digit\n",
        "  #print('Patient age = {0} & sex ={1}'.format(ds[\"PatientAge\"][:3],ds[\"PatientSex\"][0]))\n",
        " \n",
        "  try:\n",
        "    patient_age = ds[\"PatientAge\"][:3]\n",
        "    patient_sex = ds[\"PatientSex\"][0]\n",
        "    patient_info = [patient_age,patient_sex]\n",
        "    return patient_info\n",
        "  except: \n",
        "    return np.NaN\n",
        "\n"
      ],
      "execution_count": 137,
      "outputs": []
    },
    {
      "cell_type": "code",
      "metadata": {
        "id": "37w_mwwoMij8",
        "colab_type": "code",
        "colab": {
          "base_uri": "https://localhost:8080/",
          "height": 272
        },
        "outputId": "3f26fe24-5ef2-49a4-f971-b4ea12c0f117"
      },
      "source": [
        "# create pathnames from dicom files\n",
        "patients_id = [fname for fname in labels_csv['patientId']]\n",
        "print(len(patient_id))\n",
        "print(len(np.unique(patient_id)))\n",
        "# removing duplicates from the patient file\n",
        "patients_id = np.unique(patients_id)\n",
        "print(patient_id[:1][0])\n",
        "print(type(patient_id[:1][0]))\n",
        "#check the first 10\n",
        "patient_id[:10]"
      ],
      "execution_count": 138,
      "outputs": [
        {
          "output_type": "stream",
          "text": [
            "30227\n",
            "26684\n",
            "0004cfab-14fd-4e49-80ba-63a80b6bddd6\n",
            "<class 'str'>\n"
          ],
          "name": "stdout"
        },
        {
          "output_type": "execute_result",
          "data": {
            "text/plain": [
              "['0004cfab-14fd-4e49-80ba-63a80b6bddd6',\n",
              " '00313ee0-9eaa-42f4-b0ab-c148ed3241cd',\n",
              " '00322d4d-1c29-4943-afc9-b6754be640eb',\n",
              " '003d8fa0-6bf1-40ed-b54c-ac657f8495c5',\n",
              " '00436515-870c-4b36-a041-de91049b9ab4',\n",
              " '00436515-870c-4b36-a041-de91049b9ab4',\n",
              " '00569f44-917d-4c86-a842-81832af98c30',\n",
              " '006cec2e-6ce2-4549-bffa-eadfcd1e9970',\n",
              " '00704310-78a8-4b38-8475-49f4573b2dbb',\n",
              " '00704310-78a8-4b38-8475-49f4573b2dbb']"
            ]
          },
          "metadata": {
            "tags": []
          },
          "execution_count": 138
        }
      ]
    },
    {
      "cell_type": "code",
      "metadata": {
        "id": "A_-_7XNqm8YA",
        "colab_type": "code",
        "colab": {
          "base_uri": "https://localhost:8080/",
          "height": 90
        },
        "outputId": "d85c5826-cb76-46d4-c6ad-be3e54fde2db"
      },
      "source": [
        "# lets test the conversion function with one image\n",
        "\n",
        "# common path(main)\n",
        "path = \"drive/My Drive/Data/pneumonia-data\"\n",
        "# source path\n",
        "s_path =os.path.join(path,\"stage_2_train_images\")\n",
        "# destination path\n",
        "des_path =os.path.join(path,\"train\")\n",
        "\n",
        "result = dicom_to_png_metadata(s_path,des_path,patient_id[:1][0])\n",
        "result"
      ],
      "execution_count": 121,
      "outputs": [
        {
          "output_type": "stream",
          "text": [
            "Converting pixel to image started..\n",
            "Conversion finished..\n",
            "Patient age = 51 & sex =F\n"
          ],
          "name": "stdout"
        },
        {
          "output_type": "execute_result",
          "data": {
            "text/plain": [
              "['51', 'F']"
            ]
          },
          "metadata": {
            "tags": []
          },
          "execution_count": 121
        }
      ]
    },
    {
      "cell_type": "code",
      "metadata": {
        "id": "mxotFBJIV2HY",
        "colab_type": "code",
        "colab": {
          "base_uri": "https://localhost:8080/",
          "height": 198
        },
        "outputId": "cab69e04-6fc6-4301-bddf-9f5304135faa"
      },
      "source": [
        "# demo function to implement the function to make a dataFrame from patient info\n",
        "def test_fun(id):\n",
        "  if id == 3:\n",
        "    return ['hello','world']\n",
        "  else:\n",
        "    return ['you','know what']\n",
        "\n",
        "test_df = pd.DataFrame(columns=['Id','first','Name'])\n",
        "test_df['Id'] = [1,2,3,4,5]\n",
        "\n",
        "# first = test_df['Id'].apply(lambda x: test_fun(x))\n",
        "# for id in range(len(test_df)):\n",
        "#   print(id)\n",
        "#   test_df.loc[test_df['Id']==id,'first'] = first[id][0]\n",
        "\n",
        "for id in test_df['Id']:\n",
        "  #print(id)\n",
        "  # temp = test_df['Id'].apply(lambda x: test_fun(x))\n",
        "  temp = test_fun(id)\n",
        "  test_df.loc[test_df['Id'] == id,'first'] = temp[0]\n",
        "  test_df.loc[test_df['Id'] == id,'Name'] = temp[1]\n",
        "\n",
        "test_df"
      ],
      "execution_count": 71,
      "outputs": [
        {
          "output_type": "execute_result",
          "data": {
            "text/html": [
              "<div>\n",
              "<style scoped>\n",
              "    .dataframe tbody tr th:only-of-type {\n",
              "        vertical-align: middle;\n",
              "    }\n",
              "\n",
              "    .dataframe tbody tr th {\n",
              "        vertical-align: top;\n",
              "    }\n",
              "\n",
              "    .dataframe thead th {\n",
              "        text-align: right;\n",
              "    }\n",
              "</style>\n",
              "<table border=\"1\" class=\"dataframe\">\n",
              "  <thead>\n",
              "    <tr style=\"text-align: right;\">\n",
              "      <th></th>\n",
              "      <th>Id</th>\n",
              "      <th>first</th>\n",
              "      <th>Name</th>\n",
              "    </tr>\n",
              "  </thead>\n",
              "  <tbody>\n",
              "    <tr>\n",
              "      <th>0</th>\n",
              "      <td>1</td>\n",
              "      <td>you</td>\n",
              "      <td>know what</td>\n",
              "    </tr>\n",
              "    <tr>\n",
              "      <th>1</th>\n",
              "      <td>2</td>\n",
              "      <td>you</td>\n",
              "      <td>know what</td>\n",
              "    </tr>\n",
              "    <tr>\n",
              "      <th>2</th>\n",
              "      <td>3</td>\n",
              "      <td>hello</td>\n",
              "      <td>world</td>\n",
              "    </tr>\n",
              "    <tr>\n",
              "      <th>3</th>\n",
              "      <td>4</td>\n",
              "      <td>you</td>\n",
              "      <td>know what</td>\n",
              "    </tr>\n",
              "    <tr>\n",
              "      <th>4</th>\n",
              "      <td>5</td>\n",
              "      <td>you</td>\n",
              "      <td>know what</td>\n",
              "    </tr>\n",
              "  </tbody>\n",
              "</table>\n",
              "</div>"
            ],
            "text/plain": [
              "   Id  first       Name\n",
              "0   1    you  know what\n",
              "1   2    you  know what\n",
              "2   3  hello      world\n",
              "3   4    you  know what\n",
              "4   5    you  know what"
            ]
          },
          "metadata": {
            "tags": []
          },
          "execution_count": 71
        }
      ]
    },
    {
      "cell_type": "code",
      "metadata": {
        "id": "H8vh5uc-L9Qc",
        "colab_type": "code",
        "colab": {
          "base_uri": "https://localhost:8080/",
          "height": 35
        },
        "outputId": "99555fe2-359c-4151-a03f-69fb48248aab"
      },
      "source": [
        "#attribute list\n",
        "#attributes = ['Patient_sex','Patient_age']\n",
        "import pandas as pd\n",
        "import os\n",
        "#Q. code to test the conversion function and save the user metadata into csv file\n",
        " # 1. create a dataFrame with patient id using files_with_id list\n",
        " # 2. call the conversion function (dicom_to_png_metadata) and store the\n",
        " # return list into file(loop through all the files using apply method)\n",
        " # 3. store the result list into the dataFrame\n",
        "\n",
        "# # common path(main)\n",
        "# path = \"drive/My Drive/Data/pneumonia-data/\"\n",
        "# # source path\n",
        "# s_path =os.path.join(path,\"/stage_2_train_images\")\n",
        "# # destination path\n",
        "# des_path =os.path.join(path,\"/train\")\n",
        "\n",
        "# common path(main)\n",
        "path = \"drive/My Drive/Data/pneumonia-data\"\n",
        "# source path\n",
        "s_path =os.path.join(path,\"stage_2_train_images\")\n",
        "# destination path\n",
        "des_path =os.path.join(path,\"train\")\n",
        "\n",
        "\n",
        "def patient_data_tocsv(source_path,destination_path,patient_files):\n",
        "  \"\"\"\n",
        "  Function that takes calls the another function to convert the image pixel \n",
        "  into images and outputs csv file with patient info from the patient dataFrame\n",
        "\n",
        "  Args:\n",
        "    source_path = directory containing dicom files\n",
        "    destination_path = directory to holder the converted image files\n",
        "    patient_files = list containing patient id\n",
        "\n",
        "  Returns:\n",
        "    doesn't return anything, only outputs csv file with patient record\n",
        "  \"\"\"\n",
        "  # creating dataFrame with patient info column\n",
        "  cols =['Patient_Id','Age','Sex']\n",
        "  # creating empty dataframe with only columns name\n",
        "  patient_df = pd.DataFrame(columns=cols)\n",
        "  # enter data with patient\n",
        "  patient_df['Patient_Id'] = patient_files\n",
        "\n",
        "  print('Process started...')\n",
        "  # patient_id is the list consisting of all the file names\n",
        "  for id in patient_files:\n",
        "    result = dicom_to_png_metadata(source_path,destination_path,id)\n",
        "    # fills the age and sex column related to the patient \n",
        "    #print(result)\n",
        "    # as returned by the function \n",
        "    patient_df.loc[patient_df['Patient_Id'] == id,'Age'] = result[0]\n",
        "    patient_df.loc[patient_df['Patient_Id'] == id,'Sex'] = result[1]\n",
        "\n",
        "  \n",
        "  # checking if data entered into dataFrame proper\n",
        "  if patient_df.empty:\n",
        "    print(\"DataFrame is empty: Smthing went wrong!!!\")\n",
        "  else:\n",
        "    print('Writing the dataFrame to csv file')\n",
        "    patient_df.to_csv(os.path.join(path,'patient_records.csv'),index=False)\n",
        "\n",
        "  print(\"Finished...\")\n",
        "\n",
        "# calling the function\n",
        "patient_data_tocsv(s_path,des_path,patients_id)\n",
        "\n",
        "#Q. work with the png file similarly to the pneumonia detection from images..\n",
        "# 1. try with LxNEt, AlexNet, RXnet architecture\n",
        "# 2. try working with transfer learning\n",
        "\n"
      ],
      "execution_count": null,
      "outputs": [
        {
          "output_type": "stream",
          "text": [
            "Process started...\n"
          ],
          "name": "stdout"
        }
      ]
    },
    {
      "cell_type": "code",
      "metadata": {
        "id": "4aIzxCdtcOdz",
        "colab_type": "code",
        "colab": {}
      },
      "source": [
        "# attribute list\n",
        "#attributes = ['Patient_sex','Patient_age']\n",
        "\n",
        "# code to test the conversion function and save the user metadata into csv file\n",
        " # 1. create a dataFrame with patient id using files_with_id list\n",
        " # 2. call the conversion function (dicom_to_png_metadata) and store the\n",
        " # return list into file(loop through all the files using apply method)\n",
        " # 3. store the result list into the dataFrame\n",
        "\n",
        "\n",
        "# work with the png file similarly to the pneumonia detection from images..\n",
        "# 1. try with LxNEt, AlexNet, RXnet architecture\n",
        "# 2. try working with transfer learning"
      ],
      "execution_count": null,
      "outputs": []
    },
    {
      "cell_type": "markdown",
      "metadata": {
        "id": "7_kcuZJ6EOvB",
        "colab_type": "text"
      },
      "source": [
        "##### 3. Turning images into Tensor\n",
        "Here we import standard libraries to convert the images to tensor, for making data ready to be feed into the Neural Network."
      ]
    },
    {
      "cell_type": "code",
      "metadata": {
        "id": "Rp928L24ENQ6",
        "colab_type": "code",
        "colab": {
          "base_uri": "https://localhost:8080/",
          "height": 235
        },
        "outputId": "781fb807-828d-4615-efc5-0437b92d8e40"
      },
      "source": [
        "# As it is binary classification so, no need to convert the labels(targets) in numeric\n",
        "labels = labels_csv['Target']\n",
        "labels"
      ],
      "execution_count": null,
      "outputs": [
        {
          "output_type": "execute_result",
          "data": {
            "text/plain": [
              "0        0\n",
              "1        0\n",
              "2        0\n",
              "3        0\n",
              "4        1\n",
              "        ..\n",
              "30222    1\n",
              "30223    0\n",
              "30224    0\n",
              "30225    1\n",
              "30226    1\n",
              "Name: Target, Length: 30227, dtype: int64"
            ]
          },
          "metadata": {
            "tags": []
          },
          "execution_count": 10
        }
      ]
    },
    {
      "cell_type": "code",
      "metadata": {
        "id": "Tx4feB1zbFEQ",
        "colab_type": "code",
        "colab": {
          "base_uri": "https://localhost:8080/",
          "height": 35
        },
        "outputId": "98ea300e-562f-4713-a999-69afed49f499"
      },
      "source": [
        "# See if the number of labels matches the number of filenames\n",
        "if len(labels) == len(filenames):\n",
        "  print(\"Matches\")\n",
        "else:\n",
        "  print(\"Numbers doesn't matches\")"
      ],
      "execution_count": null,
      "outputs": [
        {
          "output_type": "stream",
          "text": [
            "Matches\n"
          ],
          "name": "stdout"
        }
      ]
    },
    {
      "cell_type": "code",
      "metadata": {
        "id": "MfmE0DnvbR0L",
        "colab_type": "code",
        "colab": {
          "base_uri": "https://localhost:8080/",
          "height": 35
        },
        "outputId": "94241a18-aca6-43cb-9f93-3b7d062b21a4"
      },
      "source": [
        "unique_labels = np.unique(labels)\n",
        "unique_labels"
      ],
      "execution_count": null,
      "outputs": [
        {
          "output_type": "execute_result",
          "data": {
            "text/plain": [
              "array([0, 1])"
            ]
          },
          "metadata": {
            "tags": []
          },
          "execution_count": 54
        }
      ]
    },
    {
      "cell_type": "markdown",
      "metadata": {
        "id": "u8Py8xkvb3xn",
        "colab_type": "text"
      },
      "source": [
        "###### Creating X and y \n",
        "Converting the images pixel into tensor in this section."
      ]
    },
    {
      "cell_type": "code",
      "metadata": {
        "id": "-M8ZkBUXbgWq",
        "colab_type": "code",
        "colab": {}
      },
      "source": [
        "# create X & y\n",
        "X =[]\n",
        "for f in filenames[:1000]:\n",
        "  img = image_pixel(f)\n",
        "  X.append(img)\n",
        "\n",
        "y = labels[:1000]"
      ],
      "execution_count": null,
      "outputs": []
    },
    {
      "cell_type": "code",
      "metadata": {
        "id": "t5XrHNY0sQ4g",
        "colab_type": "code",
        "colab": {
          "base_uri": "https://localhost:8080/",
          "height": 35
        },
        "outputId": "0509f5de-acf3-4cc2-8ae7-f0f935a2189e"
      },
      "source": [
        "\n",
        "# removing extra dimension\n",
        "X_temp = np.squeeze(X)\n",
        "X_temp.shape"
      ],
      "execution_count": null,
      "outputs": [
        {
          "output_type": "execute_result",
          "data": {
            "text/plain": [
              "(1000, 1024, 1024)"
            ]
          },
          "metadata": {
            "tags": []
          },
          "execution_count": 12
        }
      ]
    },
    {
      "cell_type": "code",
      "metadata": {
        "id": "3gE81dcu173z",
        "colab_type": "code",
        "colab": {
          "base_uri": "https://localhost:8080/",
          "height": 35
        },
        "outputId": "108058d3-e570-4d4a-bf96-53c7bce21b3d"
      },
      "source": [
        "type(X_temp)"
      ],
      "execution_count": null,
      "outputs": [
        {
          "output_type": "execute_result",
          "data": {
            "text/plain": [
              "numpy.ndarray"
            ]
          },
          "metadata": {
            "tags": []
          },
          "execution_count": 11
        }
      ]
    },
    {
      "cell_type": "code",
      "metadata": {
        "id": "ZVWKSwQapKwr",
        "colab_type": "code",
        "colab": {
          "base_uri": "https://localhost:8080/",
          "height": 90
        },
        "outputId": "a065f353-fc40-46e4-c0d5-d51c2093cebd"
      },
      "source": [
        "print(y.value_counts())\n",
        "print(X_temp.shape)"
      ],
      "execution_count": null,
      "outputs": [
        {
          "output_type": "stream",
          "text": [
            "0    572\n",
            "1    428\n",
            "Name: Target, dtype: int64\n",
            "(1000, 1024, 1024)\n"
          ],
          "name": "stdout"
        }
      ]
    },
    {
      "cell_type": "code",
      "metadata": {
        "id": "Py9vf_rKwXru",
        "colab_type": "code",
        "colab": {
          "base_uri": "https://localhost:8080/",
          "height": 145
        },
        "outputId": "6252c85a-b4ee-4f73-d9f3-bd1f094a0309"
      },
      "source": [
        "X_temp[:1]"
      ],
      "execution_count": null,
      "outputs": [
        {
          "output_type": "execute_result",
          "data": {
            "text/plain": [
              "array([[[144, 128, 114, ..., 176, 184, 117],\n",
              "        [125, 109,  95, ..., 171, 178, 111],\n",
              "        [104,  89,  75, ..., 166, 175, 108],\n",
              "        ...,\n",
              "        [ 16,  14,  11, ...,  19,  15,   3],\n",
              "        [ 18,  16,  12, ...,  21,  17,   5],\n",
              "        [ 19,  17,  13, ...,  23,  19,   6]]], dtype=uint8)"
            ]
          },
          "metadata": {
            "tags": []
          },
          "execution_count": 88
        }
      ]
    },
    {
      "cell_type": "code",
      "metadata": {
        "id": "rqSnre_5AJ3f",
        "colab_type": "code",
        "colab": {}
      },
      "source": [
        "# reshpae and normalize the image\n",
        "X_temp = X_temp.reshape((1000,1024,1024,1))\n",
        "# normalize the image pixel\n",
        "X_temp = X_temp.astype('float32')/255.0"
      ],
      "execution_count": null,
      "outputs": []
    },
    {
      "cell_type": "code",
      "metadata": {
        "id": "G1KuGhBqcgWW",
        "colab_type": "code",
        "colab": {}
      },
      "source": [
        "# Set number of images to use for experimenting\n",
        "NUM_IMAGES = 1000 #@param {type:\"slider\",min:1000,max:10000,step:1000}"
      ],
      "execution_count": null,
      "outputs": []
    },
    {
      "cell_type": "code",
      "metadata": {
        "id": "sFzW6YamczuK",
        "colab_type": "code",
        "colab": {
          "base_uri": "https://localhost:8080/",
          "height": 35
        },
        "outputId": "a3d051a3-4089-4ac0-da08-44a8ee93ec8e"
      },
      "source": [
        "# let'split our data into train and validation sets\n",
        "from sklearn.model_selection import train_test_split\n",
        "\n",
        "# Split them into training and validation of total size NUM_IMAGES\n",
        "X_train,X_val,y_train,y_val = train_test_split(X_temp[:NUM_IMAGES],\n",
        "                                               y[:NUM_IMAGES],\n",
        "                                               test_size=0.2,\n",
        "                                               random_state=42)\n",
        "\n",
        "len(X_train),len(y_train),len(X_val),len(y_val)"
      ],
      "execution_count": null,
      "outputs": [
        {
          "output_type": "execute_result",
          "data": {
            "text/plain": [
              "(800, 800, 200, 200)"
            ]
          },
          "metadata": {
            "tags": []
          },
          "execution_count": 15
        }
      ]
    },
    {
      "cell_type": "code",
      "metadata": {
        "id": "OfJUjOFTHvSs",
        "colab_type": "code",
        "colab": {
          "base_uri": "https://localhost:8080/",
          "height": 35
        },
        "outputId": "ef29a14f-42c9-41e4-cef3-8f0e7d4247a6"
      },
      "source": [
        "X_train.shape"
      ],
      "execution_count": null,
      "outputs": [
        {
          "output_type": "execute_result",
          "data": {
            "text/plain": [
              "(800, 1024, 1024, 1)"
            ]
          },
          "metadata": {
            "tags": []
          },
          "execution_count": 16
        }
      ]
    },
    {
      "cell_type": "markdown",
      "metadata": {
        "id": "HEJ-w44NvhWJ",
        "colab_type": "text"
      },
      "source": [
        "##### Building model"
      ]
    },
    {
      "cell_type": "code",
      "metadata": {
        "id": "LYRtAs02raCg",
        "colab_type": "code",
        "colab": {
          "base_uri": "https://localhost:8080/",
          "height": 435
        },
        "outputId": "7edf9c48-5524-46a1-e226-5cd107056aa2"
      },
      "source": [
        "from keras import layers\n",
        "from keras import models\n",
        "\n",
        "# small convnet\n",
        "model = models.Sequential()\n",
        "#Conv2D(output_depth, (window_height, window_width))\n",
        "model.add(layers.Conv2D(32,(3,3),activation='relu',input_shape=(1024,1024,1)))\n",
        "model.add(layers.MaxPooling2D((2,2)))\n",
        "model.add(layers.Conv2D(64,(3,3),activation='relu'))\n",
        "model.add(layers.MaxPool2D((2,2)))\n",
        "\n",
        "model.add(layers.Conv2D(64,(3,3),activation='relu'))\n",
        "model.add(layers.Flatten())\n",
        "model.add(layers.Dense(1,activation='sigmoid'))\n",
        "model.summary()\n"
      ],
      "execution_count": null,
      "outputs": [
        {
          "output_type": "stream",
          "text": [
            "Using TensorFlow backend.\n"
          ],
          "name": "stderr"
        },
        {
          "output_type": "stream",
          "text": [
            "Model: \"sequential_1\"\n",
            "_________________________________________________________________\n",
            "Layer (type)                 Output Shape              Param #   \n",
            "=================================================================\n",
            "conv2d_1 (Conv2D)            (None, 1022, 1022, 32)    320       \n",
            "_________________________________________________________________\n",
            "max_pooling2d_1 (MaxPooling2 (None, 511, 511, 32)      0         \n",
            "_________________________________________________________________\n",
            "conv2d_2 (Conv2D)            (None, 509, 509, 64)      18496     \n",
            "_________________________________________________________________\n",
            "max_pooling2d_2 (MaxPooling2 (None, 254, 254, 64)      0         \n",
            "_________________________________________________________________\n",
            "conv2d_3 (Conv2D)            (None, 252, 252, 64)      36928     \n",
            "_________________________________________________________________\n",
            "flatten_1 (Flatten)          (None, 4064256)           0         \n",
            "_________________________________________________________________\n",
            "dense_1 (Dense)              (None, 1)                 4064257   \n",
            "=================================================================\n",
            "Total params: 4,120,001\n",
            "Trainable params: 4,120,001\n",
            "Non-trainable params: 0\n",
            "_________________________________________________________________\n"
          ],
          "name": "stdout"
        }
      ]
    },
    {
      "cell_type": "code",
      "metadata": {
        "id": "t0SvnxHt3uAt",
        "colab_type": "code",
        "colab": {
          "base_uri": "https://localhost:8080/",
          "height": 35
        },
        "outputId": "0a909398-4f45-4bf8-e7a0-cc5f5abef5cb"
      },
      "source": [
        "model.compile(optimizer='rmsprop',\n",
        "             loss='binary_crossentropy',\n",
        "             metrics=['accuracy'])\n",
        "model.fit(X_train,y_train,epochs=5,batch_size=64)\n",
        "\n",
        "# evalute the model\n",
        "test_loss,test_acc = model.evaluate(X_val,y_val)\n",
        "test_acc"
      ],
      "execution_count": null,
      "outputs": [
        {
          "output_type": "stream",
          "text": [
            "Epoch 1/5\n"
          ],
          "name": "stdout"
        }
      ]
    },
    {
      "cell_type": "code",
      "metadata": {
        "id": "lwU-6U1B4KKV",
        "colab_type": "code",
        "colab": {}
      },
      "source": [
        ""
      ],
      "execution_count": null,
      "outputs": []
    }
  ]
}